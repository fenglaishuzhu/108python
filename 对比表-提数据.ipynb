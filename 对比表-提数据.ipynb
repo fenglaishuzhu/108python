{
 "cells": [
  {
   "cell_type": "code",
   "execution_count": 11,
   "id": "de291fcd",
   "metadata": {},
   "outputs": [],
   "source": [
    "import pandas as pd"
   ]
  },
  {
   "cell_type": "code",
   "execution_count": 12,
   "id": "1a25dba7",
   "metadata": {},
   "outputs": [],
   "source": [
    "df1 = pd.read_excel('phone.xlsx',index_col=0)"
   ]
  },
  {
   "cell_type": "code",
   "execution_count": 13,
   "id": "51c8d689",
   "metadata": {},
   "outputs": [],
   "source": [
    "df2 = pd.read_excel('data.xls', index_col=0)"
   ]
  },
  {
   "cell_type": "code",
   "execution_count": 15,
   "id": "8f7c45f2",
   "metadata": {},
   "outputs": [
    {
     "data": {
      "text/plain": [
       "['13881518831', '18280693866', '18113257962']"
      ]
     },
     "execution_count": 15,
     "metadata": {},
     "output_type": "execute_result"
    }
   ],
   "source": [
    "tel_2 = df2['tel'].astype(str).tolist()\n",
    "tel_2"
   ]
  },
  {
   "cell_type": "code",
   "execution_count": 16,
   "id": "4a496c3e",
   "metadata": {},
   "outputs": [
    {
     "data": {
      "text/html": [
       "<div>\n",
       "<style scoped>\n",
       "    .dataframe tbody tr th:only-of-type {\n",
       "        vertical-align: middle;\n",
       "    }\n",
       "\n",
       "    .dataframe tbody tr th {\n",
       "        vertical-align: top;\n",
       "    }\n",
       "\n",
       "    .dataframe thead th {\n",
       "        text-align: right;\n",
       "    }\n",
       "</style>\n",
       "<table border=\"1\" class=\"dataframe\">\n",
       "  <thead>\n",
       "    <tr style=\"text-align: right;\">\n",
       "      <th></th>\n",
       "      <th>legal_person</th>\n",
       "      <th>zhucedizhi</th>\n",
       "      <th>new_nianbao</th>\n",
       "      <th>tel</th>\n",
       "      <th>other_tel</th>\n",
       "    </tr>\n",
       "    <tr>\n",
       "      <th>company</th>\n",
       "      <th></th>\n",
       "      <th></th>\n",
       "      <th></th>\n",
       "      <th></th>\n",
       "      <th></th>\n",
       "    </tr>\n",
       "  </thead>\n",
       "  <tbody>\n",
       "    <tr>\n",
       "      <th>会理县怀烯家庭农场</th>\n",
       "      <td>杨兴明</td>\n",
       "      <td>会理县通安镇通宝村1组71号</td>\n",
       "      <td>通安镇通宝村1组</td>\n",
       "      <td>18113257962</td>\n",
       "      <td>18113257962;18113257926</td>\n",
       "    </tr>\n",
       "  </tbody>\n",
       "</table>\n",
       "</div>"
      ],
      "text/plain": [
       "          legal_person      zhucedizhi new_nianbao          tel  \\\n",
       "company                                                           \n",
       "会理县怀烯家庭农场          杨兴明  会理县通安镇通宝村1组71号    通安镇通宝村1组  18113257962   \n",
       "\n",
       "                         other_tel  \n",
       "company                             \n",
       "会理县怀烯家庭农场  18113257962;18113257926  "
      ]
     },
     "execution_count": 16,
     "metadata": {},
     "output_type": "execute_result"
    }
   ],
   "source": [
    "df3 = df1[df1['tel'].isin(tel_2)]\n",
    "df3"
   ]
  },
  {
   "cell_type": "code",
   "execution_count": 17,
   "id": "8c7433b2",
   "metadata": {},
   "outputs": [],
   "source": [
    "df3.to_excel('tb.xlsx', sheet_name='tb1')"
   ]
  },
  {
   "cell_type": "code",
   "execution_count": null,
   "id": "3c71f054",
   "metadata": {},
   "outputs": [],
   "source": []
  },
  {
   "cell_type": "code",
   "execution_count": null,
   "id": "330dcb41",
   "metadata": {},
   "outputs": [],
   "source": []
  },
  {
   "cell_type": "code",
   "execution_count": null,
   "id": "12907258",
   "metadata": {},
   "outputs": [],
   "source": []
  },
  {
   "cell_type": "code",
   "execution_count": null,
   "id": "ac2eaf47",
   "metadata": {},
   "outputs": [],
   "source": []
  },
  {
   "cell_type": "code",
   "execution_count": null,
   "id": "0d8e6c7d",
   "metadata": {},
   "outputs": [],
   "source": []
  },
  {
   "cell_type": "code",
   "execution_count": null,
   "id": "500491e1",
   "metadata": {},
   "outputs": [],
   "source": []
  },
  {
   "cell_type": "code",
   "execution_count": 32,
   "id": "7d39c4a4",
   "metadata": {},
   "outputs": [],
   "source": []
  },
  {
   "cell_type": "code",
   "execution_count": 37,
   "id": "cb0bc034",
   "metadata": {},
   "outputs": [],
   "source": []
  },
  {
   "cell_type": "code",
   "execution_count": null,
   "id": "d39e14c1",
   "metadata": {},
   "outputs": [],
   "source": [
    "\n"
   ]
  },
  {
   "cell_type": "code",
   "execution_count": null,
   "id": "6e5617b6",
   "metadata": {},
   "outputs": [],
   "source": []
  },
  {
   "cell_type": "code",
   "execution_count": null,
   "id": "4a422e81",
   "metadata": {},
   "outputs": [],
   "source": []
  },
  {
   "cell_type": "code",
   "execution_count": null,
   "id": "899c595e",
   "metadata": {},
   "outputs": [],
   "source": []
  },
  {
   "cell_type": "code",
   "execution_count": null,
   "id": "184b9766",
   "metadata": {},
   "outputs": [],
   "source": []
  }
 ],
 "metadata": {
  "kernelspec": {
   "display_name": "Python 3 (ipykernel)",
   "language": "python",
   "name": "python3"
  },
  "language_info": {
   "codemirror_mode": {
    "name": "ipython",
    "version": 3
   },
   "file_extension": ".py",
   "mimetype": "text/x-python",
   "name": "python",
   "nbconvert_exporter": "python",
   "pygments_lexer": "ipython3",
   "version": "3.9.1"
  }
 },
 "nbformat": 4,
 "nbformat_minor": 5
}
