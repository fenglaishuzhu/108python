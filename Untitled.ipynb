{
 "cells": [
  {
   "cell_type": "code",
   "execution_count": 1,
   "id": "monetary-friend",
   "metadata": {},
   "outputs": [],
   "source": [
    "import json\n",
    "\n",
    "def write_json(path, data):\n",
    "    with open(path, \"w\", encoding=\"utf-8\") as f:\n",
    "        json.dump(data, f, ensure_ascii=False, indent=1)\n",
    "    print(path, 'done.')"
   ]
  },
  {
   "cell_type": "code",
   "execution_count": 2,
   "id": "enclosed-omega",
   "metadata": {},
   "outputs": [],
   "source": [
    "def create_file(fdir, n:int, name:str):\n",
    "    data = {\n",
    "        \"cell\":[\n",
    "            {\n",
    "                \"cell_type\":\"markdown\",\n",
    "                \"metadata\":{},\n",
    "                \"source\":['# ' + name]\n",
    "            }\n",
    "        ],\n",
    "        \"metadata\": {},\n",
    "        \"nbformat\": 4,\n",
    "        \"nbformat_minor\": 4\n",
    "    }\n",
    "    path = f'{fdir}/{str(n).zfill(2)}-{name}.ipynb'\n",
    "    write_json(path, data)"
   ]
  },
  {
   "cell_type": "code",
   "execution_count": 4,
   "id": "organic-century",
   "metadata": {},
   "outputs": [
    {
     "name": "stdout",
     "output_type": "stream",
     "text": [
      "/home/pi/Desktop/fdir/01-前言.ipynb done.\n",
      "/home/pi/Desktop/fdir/02-第一章.ipynb done.\n",
      "/home/pi/Desktop/fdir/03-第二章.ipynb done.\n",
      "/home/pi/Desktop/fdir/04-第三章.ipynb done.\n",
      "/home/pi/Desktop/fdir/05-第四章.ipynb done.\n",
      "/home/pi/Desktop/fdir/06-第五章.ipynb done.\n",
      "/home/pi/Desktop/fdir/07-第六章.ipynb done.\n",
      "/home/pi/Desktop/fdir/08-第七章.ipynb done.\n",
      "/home/pi/Desktop/fdir/09-第八章.ipynb done.\n",
      "/home/pi/Desktop/fdir/10-第九章.ipynb done.\n"
     ]
    }
   ],
   "source": [
    "outline = ['前言','第一章','第二章','第三章','第四章','第五章','第六章','第七章','第八章','第九章']\n",
    "\n",
    "fdir = '/home/pi/Desktop/fdir'\n",
    "for i in range(len(outline)):\n",
    "    create_file(fdir, i + 1, outline[i])"
   ]
  },
  {
   "cell_type": "code",
   "execution_count": null,
   "id": "crazy-notice",
   "metadata": {},
   "outputs": [],
   "source": []
  }
 ],
 "metadata": {
  "kernelspec": {
   "display_name": "Python 3",
   "language": "python",
   "name": "python3"
  },
  "language_info": {
   "codemirror_mode": {
    "name": "ipython",
    "version": 3
   },
   "file_extension": ".py",
   "mimetype": "text/x-python",
   "name": "python",
   "nbconvert_exporter": "python",
   "pygments_lexer": "ipython3",
   "version": "3.7.3"
  }
 },
 "nbformat": 4,
 "nbformat_minor": 5
}
