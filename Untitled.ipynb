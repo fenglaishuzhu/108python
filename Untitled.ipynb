{
 "cells": [
  {
   "cell_type": "code",
   "execution_count": 22,
   "id": "monetary-friend",
   "metadata": {},
   "outputs": [
    {
     "name": "stdout",
     "output_type": "stream",
     "text": [
      "doing...\n",
      "done\n"
     ]
    }
   ],
   "source": [
    "import re\n",
    "import os\n",
    "\n",
    "def norm_content(path, rules):\n",
    "    for i in os.listdir(path):\n",
    "        file = path + \"/\" + i\n",
    "        with open(file, \"r\", encoding='utf-8') as f1, \\\n",
    "            open(f'{path + \"/norm-\" + i}', 'w', encoding='utf-8') as f2:\n",
    "            data = f1.read()\n",
    "            for rule in rules:\n",
    "                data = re.sub(rule[0], rule[1], data)\n",
    "            f2.write(data)\n",
    "            \n",
    "rules = (\n",
    "    (r\"([\\u4e00-\\u9fa5].*?):\", r\"\\1：\"),\n",
    "    (r\"([\\u4e00-\\u9fa5].*?),\", r\"\\1，\"),\n",
    "    (r\"([\\u4e00-\\u9fa5].*?[^\\d\\.])\\.([^\\.])\", r\"\\1。 \\2\"),\n",
    "    (r\"([\\u4e00-\\u9fa5].*?);\", r\"\\1；\"),\n",
    "    (r\"([\\u4e00-\\u9fa5].*?[^(])\\)\", r\"\\1）\"),\n",
    "    (r\"([\\u4e00-\\u9fa5].*?)\\(([^)])\", r\"\\1（\\2)\"),\n",
    "    (r\"([^ ]) +\", r\"\\1\"),\n",
    "    (r\"([\\u4e00-\\u9fa5]) ([\\u4e00-\\u9fa5])\", r\"\\1\\2\"),\n",
    "    (r\"([\\u3002\\uff1b\\uff0c\\uff1a\\u201c\\uff08\"\n",
    "     r\"\\uff09\\u3001\\uff1f\\u300a\\u300b]) ([\\u4e00-\\u9fa5])\",\n",
    "     r\"\\1\\2\"),\n",
    "    (r\"([0-9a-zA-Z])([\\u4e00-\\u9fa5])\", r\"\\1 \\2\"),\n",
    "    (r\"([\\u4e00-\\u9fa5])([0-9a-zA-Z])\", r\"\\1 \\2\"),\n",
    "    )\n",
    "\n",
    "path = \"/home/pi/Desktop/ff\"\n",
    "\n",
    "if __name__ == '__main__':\n",
    "    print('doing...')\n",
    "    norm_content(path, rules)\n",
    "    print('done')"
   ]
  },
  {
   "cell_type": "code",
   "execution_count": 11,
   "id": "drawn-mineral",
   "metadata": {},
   "outputs": [
    {
     "data": {
      "text/plain": [
       "'/home/pi/Desktop/108python'"
      ]
     },
     "execution_count": 11,
     "metadata": {},
     "output_type": "execute_result"
    }
   ],
   "source": [
    "pwd"
   ]
  },
  {
   "cell_type": "code",
   "execution_count": 3,
   "id": "identified-bunch",
   "metadata": {},
   "outputs": [
    {
     "data": {
      "text/plain": [
       "b'\\xe4\\xb8\\x80'"
      ]
     },
     "execution_count": 3,
     "metadata": {},
     "output_type": "execute_result"
    }
   ],
   "source": [
    "'\\u4e00'.encode(\"utf-8\")"
   ]
  },
  {
   "cell_type": "code",
   "execution_count": 4,
   "id": "conscious-investing",
   "metadata": {},
   "outputs": [
    {
     "data": {
      "text/plain": [
       "'一'"
      ]
     },
     "execution_count": 4,
     "metadata": {},
     "output_type": "execute_result"
    }
   ],
   "source": [
    "'\\u4e00'.encode(\"utf-8\").decode(\"utf-8\")"
   ]
  },
  {
   "cell_type": "code",
   "execution_count": 5,
   "id": "continent-florida",
   "metadata": {},
   "outputs": [
    {
     "data": {
      "text/plain": [
       "'一'"
      ]
     },
     "execution_count": 5,
     "metadata": {},
     "output_type": "execute_result"
    }
   ],
   "source": [
    "b\"\\xe4\\xb8\\x80\".decode(\"utf-8\")"
   ]
  },
  {
   "cell_type": "code",
   "execution_count": 6,
   "id": "olive-digest",
   "metadata": {},
   "outputs": [
    {
     "data": {
      "text/plain": [
       "b'\\xe4\\xb8\\x80'"
      ]
     },
     "execution_count": 6,
     "metadata": {},
     "output_type": "execute_result"
    }
   ],
   "source": [
    "b\"\\xe4\\xb8\\x80\".decode(\"utf-8\").encode(\"utf-8\")"
   ]
  },
  {
   "cell_type": "code",
   "execution_count": 8,
   "id": "invisible-harvey",
   "metadata": {},
   "outputs": [
    {
     "data": {
      "text/plain": [
       "'笑'"
      ]
     },
     "execution_count": 8,
     "metadata": {},
     "output_type": "execute_result"
    }
   ],
   "source": [
    "'\\u7b11'"
   ]
  },
  {
   "cell_type": "code",
   "execution_count": 10,
   "id": "nonprofit-watch",
   "metadata": {},
   "outputs": [
    {
     "data": {
      "text/plain": [
       "('ᾒf', 'ᾗ6')"
      ]
     },
     "execution_count": 10,
     "metadata": {},
     "output_type": "execute_result"
    }
   ],
   "source": [
    "'\\u1f92f','\\u1f976'"
   ]
  },
  {
   "cell_type": "code",
   "execution_count": null,
   "id": "grand-wednesday",
   "metadata": {},
   "outputs": [],
   "source": [
    "import json\n",
    "\n",
    "def write_json(path, data):\n",
    "    with open(path, \"w\", encoding=\"utf-8\") as f:\n",
    "        json.dump(data, f, ensure_ascii=False, indent=1)\n",
    "    print(path, 'done.')"
   ]
  },
  {
   "cell_type": "code",
   "execution_count": 2,
   "id": "enclosed-omega",
   "metadata": {},
   "outputs": [],
   "source": [
    "def create_file(fdir, n:int, name:str):\n",
    "    data = {\n",
    "        \"cell\":[\n",
    "            {\n",
    "                \"cell_type\":\"markdown\",\n",
    "                \"metadata\":{},\n",
    "                \"source\":['# ' + name]\n",
    "            }\n",
    "        ],\n",
    "        \"metadata\": {},\n",
    "        \"nbformat\": 4,\n",
    "        \"nbformat_minor\": 4\n",
    "    }\n",
    "    path = f'{fdir}/{str(n).zfill(2)}-{name}.ipynb'\n",
    "    write_json(path, data)"
   ]
  },
  {
   "cell_type": "code",
   "execution_count": 4,
   "id": "organic-century",
   "metadata": {},
   "outputs": [
    {
     "name": "stdout",
     "output_type": "stream",
     "text": [
      "/home/pi/Desktop/fdir/01-前言.ipynb done.\n",
      "/home/pi/Desktop/fdir/02-第一章.ipynb done.\n",
      "/home/pi/Desktop/fdir/03-第二章.ipynb done.\n",
      "/home/pi/Desktop/fdir/04-第三章.ipynb done.\n",
      "/home/pi/Desktop/fdir/05-第四章.ipynb done.\n",
      "/home/pi/Desktop/fdir/06-第五章.ipynb done.\n",
      "/home/pi/Desktop/fdir/07-第六章.ipynb done.\n",
      "/home/pi/Desktop/fdir/08-第七章.ipynb done.\n",
      "/home/pi/Desktop/fdir/09-第八章.ipynb done.\n",
      "/home/pi/Desktop/fdir/10-第九章.ipynb done.\n"
     ]
    }
   ],
   "source": [
    "outline = ['前言','第一章','第二章','第三章','第四章','第五章','第六章','第七章','第八章','第九章']\n",
    "\n",
    "fdir = '/home/pi/Desktop/fdir'\n",
    "for i in range(len(outline)):\n",
    "    create_file(fdir, i + 1, outline[i])"
   ]
  },
  {
   "cell_type": "code",
   "execution_count": null,
   "id": "crazy-notice",
   "metadata": {},
   "outputs": [],
   "source": []
  }
 ],
 "metadata": {
  "kernelspec": {
   "display_name": "Python 3",
   "language": "python",
   "name": "python3"
  },
  "language_info": {
   "codemirror_mode": {
    "name": "ipython",
    "version": 3
   },
   "file_extension": ".py",
   "mimetype": "text/x-python",
   "name": "python",
   "nbconvert_exporter": "python",
   "pygments_lexer": "ipython3",
   "version": "3.7.3"
  }
 },
 "nbformat": 4,
 "nbformat_minor": 5
}
