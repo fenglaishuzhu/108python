{
 "cells": [
  {
   "cell_type": "code",
   "execution_count": 1,
   "metadata": {
    "collapsed": true,
    "execution": {
     "iopub.execute_input": "2022-01-02T10:41:55.869Z",
     "iopub.status.busy": "2022-01-02T10:41:55.852Z",
     "iopub.status.idle": "2022-01-02T10:41:57.053Z",
     "shell.execute_reply": "2022-01-02T10:41:57.089Z"
    },
    "jupyter": {
     "outputs_hidden": false,
     "source_hidden": false
    },
    "nteract": {
     "transient": {
      "deleting": false
     }
    }
   },
   "outputs": [],
   "source": [
    "import requests\n",
    "from bs4 import  BeautifulSoup\n",
    "import pandas as pd\n",
    "import  numpy as np\n",
    "import re\n",
    "import  urllib.request"
   ]
  },
  {
   "cell_type": "code",
   "execution_count": 2,
   "metadata": {
    "collapsed": true,
    "execution": {
     "iopub.execute_input": "2022-01-02T10:41:57.073Z",
     "iopub.status.busy": "2022-01-02T10:41:57.067Z",
     "iopub.status.idle": "2022-01-02T10:41:57.871Z",
     "shell.execute_reply": "2022-01-02T10:41:58.059Z"
    },
    "jupyter": {
     "outputs_hidden": false,
     "source_hidden": false
    },
    "nteract": {
     "transient": {
      "deleting": false
     }
    }
   },
   "outputs": [],
   "source": [
    "response=requests.get(\"https://tieba.baidu.com/p/2314539885?pn=1&red_tag=2344820316\")"
   ]
  },
  {
   "cell_type": "code",
   "execution_count": 3,
   "metadata": {
    "collapsed": true,
    "execution": {
     "iopub.execute_input": "2022-01-02T10:41:57.905Z",
     "iopub.status.busy": "2022-01-02T10:41:57.898Z",
     "iopub.status.idle": "2022-01-02T10:41:57.931Z",
     "shell.execute_reply": "2022-01-02T10:41:58.065Z"
    },
    "jupyter": {
     "outputs_hidden": false,
     "source_hidden": false
    },
    "nteract": {
     "transient": {
      "deleting": false
     }
    }
   },
   "outputs": [
    {
     "data": {
      "text/plain": [
       "200"
      ]
     },
     "execution_count": 3,
     "metadata": {},
     "output_type": "execute_result"
    }
   ],
   "source": [
    "response.status_code"
   ]
  },
  {
   "cell_type": "code",
   "execution_count": 4,
   "metadata": {
    "collapsed": true,
    "execution": {
     "iopub.execute_input": "2022-01-02T10:41:57.962Z",
     "iopub.status.busy": "2022-01-02T10:41:57.949Z",
     "iopub.status.idle": "2022-01-02T10:41:57.976Z",
     "shell.execute_reply": "2022-01-02T10:41:58.070Z"
    },
    "jupyter": {
     "outputs_hidden": false,
     "source_hidden": false
    },
    "nteract": {
     "transient": {
      "deleting": false
     }
    }
   },
   "outputs": [],
   "source": [
    "playload=response.content\n"
   ]
  },
  {
   "cell_type": "code",
   "execution_count": 5,
   "metadata": {
    "collapsed": true,
    "execution": {
     "iopub.execute_input": "2022-01-02T10:41:58.004Z",
     "iopub.status.busy": "2022-01-02T10:41:57.991Z",
     "iopub.status.idle": "2022-01-02T10:41:58.024Z",
     "shell.execute_reply": "2022-01-02T10:41:58.074Z"
    },
    "jupyter": {
     "outputs_hidden": false,
     "source_hidden": false
    },
    "nteract": {
     "transient": {
      "deleting": false
     }
    }
   },
   "outputs": [],
   "source": [
    "soup=BeautifulSoup(playload,'html.parser')\n",
    "\n",
    "\n",
    "\n"
   ]
  },
  {
   "cell_type": "code",
   "execution_count": 9,
   "metadata": {
    "collapsed": true,
    "execution": {
     "iopub.execute_input": "2022-01-02T10:43:05.596Z",
     "iopub.status.busy": "2022-01-02T10:43:05.588Z",
     "iopub.status.idle": "2022-01-02T10:43:05.610Z",
     "shell.execute_reply": "2022-01-02T10:43:05.619Z"
    },
    "jupyter": {
     "outputs_hidden": false,
     "source_hidden": false
    },
    "nteract": {
     "transient": {
      "deleting": false
     }
    }
   },
   "outputs": [],
   "source": [
    "table=soup.find('div',class_='pb_content clearfix').find_all('div',class_='d_post_content_main')"
   ]
  },
  {
   "cell_type": "code",
   "execution_count": 17,
   "metadata": {
    "collapsed": true,
    "execution": {
     "iopub.execute_input": "2022-01-02T10:57:03.114Z",
     "iopub.status.busy": "2022-01-02T10:57:03.096Z",
     "iopub.status.idle": "2022-01-02T10:57:03.166Z",
     "shell.execute_reply": "2022-01-02T10:57:03.196Z"
    },
    "jupyter": {
     "outputs_hidden": false,
     "source_hidden": false
    },
    "nteract": {
     "transient": {
      "deleting": false
     }
    }
   },
   "outputs": [],
   "source": [
    "new_emails = str(re.findall(\"[\\w!#$%&'*+/=?^_`{|}~-]+(?:\\.[\\w!#$%&'*+/=?^_`{|}~-]+)*@(?:[\\w](?:[\\w-]*[\\w])?\\.)+[\\w](?:[\\w-]*[\\w])?\", table,re.I))\n",
    "                 \n",
    "\n",
    "\n"
   ]
  },
  {
   "cell_type": "code",
   "execution_count": 18,
   "metadata": {
    "collapsed": true,
    "execution": {
     "iopub.execute_input": "2022-01-02T10:57:04.420Z",
     "iopub.status.busy": "2022-01-02T10:57:04.392Z",
     "iopub.status.idle": "2022-01-02T10:57:04.456Z",
     "shell.execute_reply": "2022-01-02T10:57:04.464Z"
    },
    "jupyter": {
     "outputs_hidden": false,
     "source_hidden": false
    },
    "nteract": {
     "transient": {
      "deleting": false
     }
    }
   },
   "outputs": [
    {
     "data": {
      "text/plain": [
       "\"['962481891@qq.com谢谢楼主', '740846983@qq.com', '847886316@qq.com', '1036777545@qq.com', '752847337@qq.com', '2621283024@qq.com', '734110053@qq.com', '912408258@qq.com楼主好人哦', '819230339@qq.com', '263332746@qq.com']\""
      ]
     },
     "execution_count": 18,
     "metadata": {},
     "output_type": "execute_result"
    }
   ],
   "source": [
    "new_emails"
   ]
  },
  {
   "cell_type": "code",
   "execution_count": null,
   "metadata": {
    "collapsed": true,
    "jupyter": {
     "outputs_hidden": false,
     "source_hidden": false
    },
    "nteract": {
     "transient": {
      "deleting": false
     }
    }
   },
   "outputs": [],
   "source": []
  },
  {
   "cell_type": "code",
   "execution_count": null,
   "metadata": {
    "collapsed": true,
    "jupyter": {
     "outputs_hidden": false,
     "source_hidden": false
    },
    "nteract": {
     "transient": {
      "deleting": false
     }
    }
   },
   "outputs": [],
   "source": []
  }
 ],
 "metadata": {
  "kernel_info": {
   "name": "python3"
  },
  "kernelspec": {
   "display_name": "Python 3 (ipykernel)",
   "language": "python",
   "name": "python3"
  },
  "language_info": {
   "codemirror_mode": {
    "name": "ipython",
    "version": 3
   },
   "file_extension": ".py",
   "mimetype": "text/x-python",
   "name": "python",
   "nbconvert_exporter": "python",
   "pygments_lexer": "ipython3",
   "version": "3.10.0"
  },
  "nteract": {
   "version": "0.28.0"
  }
 },
 "nbformat": 4,
 "nbformat_minor": 1
}
