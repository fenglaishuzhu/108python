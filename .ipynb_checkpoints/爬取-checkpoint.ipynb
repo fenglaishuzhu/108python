{
 "cells": [
  {
   "cell_type": "code",
   "execution_count": 443,
   "metadata": {
    "collapsed": true,
    "execution": {
     "iopub.execute_input": "2022-01-10T22:52:06.234Z",
     "iopub.status.busy": "2022-01-10T22:52:06.225Z",
     "iopub.status.idle": "2022-01-10T22:52:06.251Z",
     "shell.execute_reply": "2022-01-10T22:52:06.257Z"
    },
    "jupyter": {
     "outputs_hidden": false,
     "source_hidden": false
    },
    "nteract": {
     "transient": {
      "deleting": false
     }
    }
   },
   "outputs": [],
   "source": [
    "import  requests\n",
    "from  bs4  import  BeautifulSoup\n",
    "\n",
    "import re"
   ]
  },
  {
   "cell_type": "code",
   "execution_count": 444,
   "metadata": {
    "collapsed": true,
    "execution": {
     "iopub.execute_input": "2022-01-10T22:52:06.728Z",
     "iopub.status.busy": "2022-01-10T22:52:06.723Z",
     "iopub.status.idle": "2022-01-10T22:52:06.745Z",
     "shell.execute_reply": "2022-01-10T22:52:06.756Z"
    },
    "jupyter": {
     "outputs_hidden": false,
     "source_hidden": false
    },
    "nteract": {
     "transient": {
      "deleting": false
     }
    }
   },
   "outputs": [],
   "source": [
    "def  get_html(url):\n",
    "  \n",
    "  try:\n",
    "  \n",
    "    response=requests.get(url,headers=headers)\n",
    "  \n",
    "    response.raise_for_status()\n",
    "    response.encoding='utf-8'\n",
    "    return response.text\n",
    "    \n",
    "  except:#1.finall改成except\n",
    "    return  \"ERROR\"\n",
    "  "
   ]
  },
  {
   "cell_type": "code",
   "execution_count": 445,
   "metadata": {
    "collapsed": true,
    "execution": {
     "iopub.execute_input": "2022-01-10T22:52:07.206Z",
     "iopub.status.busy": "2022-01-10T22:52:07.199Z",
     "iopub.status.idle": "2022-01-10T22:52:07.216Z",
     "shell.execute_reply": "2022-01-10T22:52:07.222Z"
    },
    "jupyter": {
     "outputs_hidden": false,
     "source_hidden": false
    },
    "nteract": {
     "transient": {
      "deleting": false
     }
    }
   },
   "outputs": [],
   "source": [
    "def  get_content(url):\n",
    "    \n",
    "  \n",
    "     html=get_html(url)\n",
    "    \n",
    "     soup=BeautifulSoup(html,'html.parser')\n",
    "     email=soup.find('div',class_='p_postlist').find_all('div',class_='d_post_content j_d_post_content clearfix')#2.第二个class内容有所更改\n",
    "     emails = re.findall(r\"[a-z0-9\\.\\-+_]+@[a-z0-9\\.\\-+_]+\\.[a-z]+\", res)\n",
    "     print(emails)\n",
    "         \n",
    "    \n",
    "      \n",
    "    \n",
    "          \n",
    "          \n",
    "      \n",
    "    "
   ]
  },
  {
   "cell_type": "code",
   "execution_count": 446,
   "metadata": {
    "collapsed": true,
    "execution": {
     "iopub.execute_input": "2022-01-10T22:52:07.911Z",
     "iopub.status.busy": "2022-01-10T22:52:07.905Z",
     "iopub.status.idle": "2022-01-10T22:52:07.922Z",
     "shell.execute_reply": "2022-01-10T22:52:07.928Z"
    },
    "jupyter": {
     "outputs_hidden": false,
     "source_hidden": false
    },
    "nteract": {
     "transient": {
      "deleting": false
     }
    }
   },
   "outputs": [],
   "source": [
    "def  main(base_url,deep):\n",
    "  \n",
    "   url_list=[]\n",
    "   \n",
    "   for i in range(1,deep+1):\n",
    "  \n",
    "     url_list.append(base_url+'pn='+str(i))\n",
    "   \n",
    "     print(url_list)\n",
    "    \n",
    "   for  url  in  url_list:\n",
    "    \n",
    "     content=get_content(url)\n",
    "      \n",
    "      \n",
    "    "
   ]
  },
  {
   "cell_type": "code",
   "execution_count": 447,
   "metadata": {
    "collapsed": true,
    "execution": {
     "iopub.execute_input": "2022-01-10T22:52:08.349Z",
     "iopub.status.busy": "2022-01-10T22:52:08.342Z",
     "iopub.status.idle": "2022-01-10T22:08:31.806Z",
     "shell.execute_reply": "2022-01-10T22:08:31.834Z"
    },
    "jupyter": {
     "outputs_hidden": false,
     "source_hidden": false
    },
    "nteract": {
     "transient": {
      "deleting": false
     }
    }
   },
   "outputs": [
    {
     "name": "stdout",
     "output_type": "stream",
     "text": [
      "['https://tieba.baidu.com/p/2314539885pn=1']\n",
      "['https://tieba.baidu.com/p/2314539885pn=1', 'https://tieba.baidu.com/p/2314539885pn=2']\n"
     ]
    },
    {
     "ename": "AttributeError",
     "evalue": "'NoneType' object has no attribute 'find'",
     "output_type": "error",
     "traceback": [
      "\u001b[1;31m---------------------------------------------------------------------------\u001b[0m",
      "\u001b[1;31mAttributeError\u001b[0m                            Traceback (most recent call last)",
      "\u001b[1;32m~\\AppData\\Local\\Temp/ipykernel_13676/1286375567.py\u001b[0m in \u001b[0;36m<module>\u001b[1;34m\u001b[0m\n\u001b[0;32m      7\u001b[0m \u001b[1;32mif\u001b[0m  \u001b[0m__name__\u001b[0m\u001b[1;33m==\u001b[0m\u001b[1;34m\"__main__\"\u001b[0m\u001b[1;33m:\u001b[0m\u001b[1;33m\u001b[0m\u001b[1;33m\u001b[0m\u001b[0m\n\u001b[0;32m      8\u001b[0m \u001b[1;33m\u001b[0m\u001b[0m\n\u001b[1;32m----> 9\u001b[1;33m     \u001b[0mmain\u001b[0m\u001b[1;33m(\u001b[0m\u001b[0mbase_url\u001b[0m\u001b[1;33m,\u001b[0m\u001b[0mdeep\u001b[0m\u001b[1;33m)\u001b[0m\u001b[1;33m\u001b[0m\u001b[1;33m\u001b[0m\u001b[0m\n\u001b[0m",
      "\u001b[1;32m~\\AppData\\Local\\Temp/ipykernel_13676/1072178982.py\u001b[0m in \u001b[0;36mmain\u001b[1;34m(base_url, deep)\u001b[0m\n\u001b[0;32m     11\u001b[0m    \u001b[1;32mfor\u001b[0m  \u001b[0murl\u001b[0m  \u001b[1;32min\u001b[0m  \u001b[0murl_list\u001b[0m\u001b[1;33m:\u001b[0m\u001b[1;33m\u001b[0m\u001b[1;33m\u001b[0m\u001b[0m\n\u001b[0;32m     12\u001b[0m \u001b[1;33m\u001b[0m\u001b[0m\n\u001b[1;32m---> 13\u001b[1;33m      \u001b[0mcontent\u001b[0m\u001b[1;33m=\u001b[0m\u001b[0mget_content\u001b[0m\u001b[1;33m(\u001b[0m\u001b[0murl\u001b[0m\u001b[1;33m)\u001b[0m\u001b[1;33m\u001b[0m\u001b[1;33m\u001b[0m\u001b[0m\n\u001b[0m\u001b[0;32m     14\u001b[0m \u001b[1;33m\u001b[0m\u001b[0m\n\u001b[0;32m     15\u001b[0m \u001b[1;33m\u001b[0m\u001b[0m\n",
      "\u001b[1;32m~\\AppData\\Local\\Temp/ipykernel_13676/1450263431.py\u001b[0m in \u001b[0;36mget_content\u001b[1;34m(url)\u001b[0m\n\u001b[0;32m      7\u001b[0m      \u001b[0msoup\u001b[0m\u001b[1;33m=\u001b[0m\u001b[0mBeautifulSoup\u001b[0m\u001b[1;33m(\u001b[0m\u001b[0mhtml\u001b[0m\u001b[1;33m,\u001b[0m\u001b[1;34m'lxml'\u001b[0m\u001b[1;33m)\u001b[0m\u001b[1;33m\u001b[0m\u001b[1;33m\u001b[0m\u001b[0m\n\u001b[0;32m      8\u001b[0m \u001b[1;33m\u001b[0m\u001b[0m\n\u001b[1;32m----> 9\u001b[1;33m      \u001b[0meamil\u001b[0m\u001b[1;33m=\u001b[0m\u001b[0msoup\u001b[0m\u001b[1;33m.\u001b[0m\u001b[0mfind\u001b[0m\u001b[1;33m(\u001b[0m\u001b[1;34m'div'\u001b[0m\u001b[1;33m,\u001b[0m\u001b[0mclass_\u001b[0m\u001b[1;33m=\u001b[0m\u001b[1;34m'p_postlist'\u001b[0m\u001b[1;33m)\u001b[0m\u001b[1;33m.\u001b[0m\u001b[0mfind\u001b[0m\u001b[1;33m(\u001b[0m\u001b[1;34m'div'\u001b[0m\u001b[1;33m)\u001b[0m\u001b[1;33m\u001b[0m\u001b[1;33m\u001b[0m\u001b[0m\n\u001b[0m\u001b[0;32m     10\u001b[0m \u001b[1;33m\u001b[0m\u001b[0m\n\u001b[0;32m     11\u001b[0m      \u001b[0memail\u001b[0m\u001b[1;33m=\u001b[0m\u001b[0mre\u001b[0m\u001b[1;33m.\u001b[0m\u001b[0mfindall\u001b[0m\u001b[1;33m(\u001b[0m\u001b[1;34m\"r[a-z0-9\\.\\-+_]+@[a-z0-9\\.\\-+_]+\\.[a-z]+\"\u001b[0m\u001b[1;33m,\u001b[0m \u001b[0memails\u001b[0m\u001b[1;33m)\u001b[0m\u001b[1;33m\u001b[0m\u001b[1;33m\u001b[0m\u001b[0m\n",
      "\u001b[1;31mAttributeError\u001b[0m: 'NoneType' object has no attribute 'find'"
     ]
    }
   ],
   "source": [
    "base_url='https://tieba.baidu.com/p/2314539885'\n",
    "deep=2\n",
    "headers={'User-Agent':\n",
    "           'Mozilla/5.0 (Windows NT 10.0; Win64; x64) AppleWebKit/537.36 (KHTML, like Gecko) Chrome/96.0.4664.110 Safari/537.36 Edg/96.0.1054.62'}\n",
    "  \n",
    "\n",
    "if  __name__==\"__main__\":\n",
    "    \n",
    "    main(base_url,deep)"
   ]
  },
  {
   "cell_type": "code",
   "execution_count": null,
   "metadata": {
    "collapsed": true,
    "jupyter": {
     "outputs_hidden": false,
     "source_hidden": false
    },
    "nteract": {
     "transient": {
      "deleting": false
     }
    }
   },
   "outputs": [],
   "source": []
  },
  {
   "cell_type": "code",
   "execution_count": null,
   "metadata": {
    "collapsed": true,
    "jupyter": {
     "outputs_hidden": false,
     "source_hidden": false
    },
    "nteract": {
     "transient": {
      "deleting": false
     }
    }
   },
   "outputs": [],
   "source": []
  },
  {
   "cell_type": "code",
   "execution_count": null,
   "metadata": {
    "collapsed": true,
    "jupyter": {
     "outputs_hidden": false,
     "source_hidden": false
    },
    "nteract": {
     "transient": {
      "deleting": false
     }
    }
   },
   "outputs": [],
   "source": []
  }
 ],
 "metadata": {
  "kernel_info": {
   "name": "python3"
  },
  "kernelspec": {
   "display_name": "Python 3 (ipykernel)",
   "language": "python",
   "name": "python3"
  },
  "language_info": {
   "codemirror_mode": {
    "name": "ipython",
    "version": 3
   },
   "file_extension": ".py",
   "mimetype": "text/x-python",
   "name": "python",
   "nbconvert_exporter": "python",
   "pygments_lexer": "ipython3",
   "version": "3.10.0"
  },
  "nteract": {
   "version": "0.28.0"
  }
 },
 "nbformat": 4,
 "nbformat_minor": 1
}
