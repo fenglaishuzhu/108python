{
 "cells": [
  {
   "cell_type": "code",
   "execution_count": null,
   "id": "7a35aac0",
   "metadata": {},
   "outputs": [],
   "source": []
  },
  {
   "cell_type": "code",
   "execution_count": null,
   "id": "southeast-grammar",
   "metadata": {},
   "outputs": [],
   "source": []
  },
  {
   "cell_type": "code",
   "execution_count": null,
   "id": "every-scratch",
   "metadata": {},
   "outputs": [],
   "source": []
  },
  {
   "cell_type": "code",
   "execution_count": 6,
   "id": "fifteen-trick",
   "metadata": {},
   "outputs": [
    {
     "name": "stdout",
     "output_type": "stream",
     "text": [
      "101\n",
      "102\n",
      "103\n",
      "104\n",
      "105\n"
     ]
    }
   ],
   "source": [
    "def counter(start, stop):\n",
    "    while start <= stop:\n",
    "        yield start \n",
    "        start += 1\n",
    "        \n",
    "for i in counter(101, 105):\n",
    "    print(i)"
   ]
  },
  {
   "cell_type": "code",
   "execution_count": 5,
   "id": "blond-philip",
   "metadata": {},
   "outputs": [
    {
     "data": {
      "text/plain": [
       "11"
      ]
     },
     "execution_count": 5,
     "metadata": {},
     "output_type": "execute_result"
    },
    {
     "data": {
      "text/plain": [
       "12"
      ]
     },
     "execution_count": 5,
     "metadata": {},
     "output_type": "execute_result"
    },
    {
     "data": {
      "text/plain": [
       "13"
      ]
     },
     "execution_count": 5,
     "metadata": {},
     "output_type": "execute_result"
    },
    {
     "name": "stdout",
     "output_type": "stream",
     "text": [
      "101, 102, 103, 104, 105, "
     ]
    },
    {
     "data": {
      "text/plain": [
       "type"
      ]
     },
     "execution_count": 5,
     "metadata": {},
     "output_type": "execute_result"
    },
    {
     "name": "stdout",
     "output_type": "stream",
     "text": [
      "201\n",
      "202\n",
      "203\n"
     ]
    }
   ],
   "source": [
    "class Counter(object):\n",
    "    def __init__(self, start, stop):\n",
    "        self.current = start\n",
    "        self.stop = stop\n",
    "    def __iter__(self):\n",
    "        return self\n",
    "    def __next__(self):\n",
    "        if self.current > self.stop:\n",
    "            raise StopIteration\n",
    "        else:\n",
    "            c = self.current\n",
    "            self.current += 1\n",
    "        return c\n",
    "    \n",
    "c = Counter(11, 20)\n",
    "next(c)\n",
    "next(c)\n",
    "next(c)\n",
    "for c in Counter(101, 105):\n",
    "    print(c, end=', ')\n",
    "type(Counter)\n",
    "\n",
    "c = Counter(201, 203)\n",
    "while True:\n",
    "    try:\n",
    "        print(next(c), sep=', ')\n",
    "    except StopIteration:\n",
    "        break"
   ]
  },
  {
   "cell_type": "code",
   "execution_count": 3,
   "id": "restricted-sellers",
   "metadata": {},
   "outputs": [
    {
     "data": {
      "text/plain": [
       "'P'"
      ]
     },
     "execution_count": 3,
     "metadata": {},
     "output_type": "execute_result"
    },
    {
     "data": {
      "text/plain": [
       "'y'"
      ]
     },
     "execution_count": 3,
     "metadata": {},
     "output_type": "execute_result"
    },
    {
     "data": {
      "text/plain": [
       "'t'"
      ]
     },
     "execution_count": 3,
     "metadata": {},
     "output_type": "execute_result"
    },
    {
     "data": {
      "text/plain": [
       "str_iterator"
      ]
     },
     "execution_count": 3,
     "metadata": {},
     "output_type": "execute_result"
    },
    {
     "data": {
      "text/plain": [
       "tuple_iterator"
      ]
     },
     "execution_count": 3,
     "metadata": {},
     "output_type": "execute_result"
    },
    {
     "data": {
      "text/plain": [
       "list_iterator"
      ]
     },
     "execution_count": 3,
     "metadata": {},
     "output_type": "execute_result"
    }
   ],
   "source": [
    "from IPython.core.interactiveshell import InteractiveShell\n",
    "InteractiveShell.ast_node_interactivity = \"all\"\n",
    "\n",
    "i = iter(\"Python\")\n",
    "next(i)\n",
    "next(i)\n",
    "next(i)\n",
    "type(i)\n",
    "s = iter((1, 2, 3, 4, 5))\n",
    "type(s)\n",
    "L = iter(['item 1', 'item 2', 3, 5])\n",
    "type(L)"
   ]
  },
  {
   "cell_type": "code",
   "execution_count": 13,
   "id": "surprised-basket",
   "metadata": {},
   "outputs": [
    {
     "name": "stdout",
     "output_type": "stream",
     "text": [
      "t, h, i, s,  , i, s,  , a,  , s, t, r, i, n, g, ., \n",
      "item 1, item 2, 3, 5, \n",
      "1, 2, 3, 4, 5, \n"
     ]
    }
   ],
   "source": [
    "string = \"this is a string.\"\n",
    "list = ['item 1', 'item 2', 3, 5]\n",
    "set = (1, 2, 3, 4, 5)\n",
    "for c in string:\n",
    "    print(c, end=', ')\n",
    "print()\n",
    "for L in list:\n",
    "    print(L, end=', ')\n",
    "print()\n",
    "for s in set:\n",
    "    print(s, end=', ')\n",
    "print()"
   ]
  },
  {
   "cell_type": "code",
   "execution_count": 12,
   "id": "retired-cabinet",
   "metadata": {},
   "outputs": [
    {
     "name": "stdout",
     "output_type": "stream",
     "text": [
      "51\n",
      "{'id': 100, 'age': 49}\n"
     ]
    }
   ],
   "source": [
    "class Person:\n",
    "    def __init__(self, id):\n",
    "        self.id = id\n",
    "        \n",
    "obama = Person(100)\n",
    "obama.__dict__[\"age\"] = 49\n",
    "\n",
    "print(obama.age + len(obama.__dict__))\n",
    "print(obama.__dict__)"
   ]
  },
  {
   "cell_type": "code",
   "execution_count": 9,
   "id": "communist-endorsement",
   "metadata": {},
   "outputs": [
    {
     "ename": "TypeError",
     "evalue": "__init__() missing 1 required positional argument: 'id'",
     "output_type": "error",
     "traceback": [
      "\u001b[0;31m---------------------------------------------------------------------------\u001b[0m",
      "\u001b[0;31mTypeError\u001b[0m                                 Traceback (most recent call last)",
      "\u001b[0;32m<ipython-input-9-5e71b879e122>\u001b[0m in \u001b[0;36m<module>\u001b[0;34m\u001b[0m\n\u001b[1;32m      4\u001b[0m         \u001b[0mid\u001b[0m \u001b[0;34m=\u001b[0m \u001b[0;36m666\u001b[0m\u001b[0;34m\u001b[0m\u001b[0;34m\u001b[0m\u001b[0m\n\u001b[1;32m      5\u001b[0m \u001b[0;34m\u001b[0m\u001b[0m\n\u001b[0;32m----> 6\u001b[0;31m \u001b[0macc\u001b[0m \u001b[0;34m=\u001b[0m \u001b[0mAccount\u001b[0m\u001b[0;34m(\u001b[0m\u001b[0;34m)\u001b[0m\u001b[0;34m\u001b[0m\u001b[0;34m\u001b[0m\u001b[0m\n\u001b[0m\u001b[1;32m      7\u001b[0m \u001b[0mprint\u001b[0m\u001b[0;34m(\u001b[0m\u001b[0macc\u001b[0m\u001b[0;34m.\u001b[0m\u001b[0mid\u001b[0m\u001b[0;34m)\u001b[0m\u001b[0;34m\u001b[0m\u001b[0;34m\u001b[0m\u001b[0m\n",
      "\u001b[0;31mTypeError\u001b[0m: __init__() missing 1 required positional argument: 'id'"
     ]
    }
   ],
   "source": [
    "class Account:\n",
    "    def __init__(self, id):\n",
    "        self.id = id\n",
    "        id = 666\n",
    "        \n",
    "acc = Account(123) #如果没有123,则显示报错\n",
    "print(acc.id)"
   ]
  },
  {
   "cell_type": "code",
   "execution_count": 7,
   "id": "running-compound",
   "metadata": {},
   "outputs": [
    {
     "ename": "AttributeError",
     "evalue": "'child' object has no attribute 'v1'",
     "output_type": "error",
     "traceback": [
      "\u001b[0;31m---------------------------------------------------------------------------\u001b[0m",
      "\u001b[0;31mAttributeError\u001b[0m                            Traceback (most recent call last)",
      "\u001b[0;32m<ipython-input-7-2f8695a1a343>\u001b[0m in \u001b[0;36m<module>\u001b[0;34m\u001b[0m\n\u001b[1;32m      8\u001b[0m \u001b[0;34m\u001b[0m\u001b[0m\n\u001b[1;32m      9\u001b[0m \u001b[0mobj\u001b[0m \u001b[0;34m=\u001b[0m \u001b[0mchild\u001b[0m\u001b[0;34m(\u001b[0m\u001b[0;36m11\u001b[0m\u001b[0;34m)\u001b[0m\u001b[0;34m\u001b[0m\u001b[0;34m\u001b[0m\u001b[0m\n\u001b[0;32m---> 10\u001b[0;31m \u001b[0mprint\u001b[0m\u001b[0;34m(\u001b[0m\u001b[0mobj\u001b[0m\u001b[0;34m.\u001b[0m\u001b[0mv1\u001b[0m \u001b[0;34m+\u001b[0m \u001b[0;34m\" \"\u001b[0m \u001b[0;34m+\u001b[0m \u001b[0mobj\u001b[0m\u001b[0;34m.\u001b[0m\u001b[0mv2\u001b[0m\u001b[0;34m)\u001b[0m\u001b[0;34m\u001b[0m\u001b[0;34m\u001b[0m\u001b[0m\n\u001b[0m",
      "\u001b[0;31mAttributeError\u001b[0m: 'child' object has no attribute 'v1'"
     ]
    }
   ],
   "source": [
    "class parent:\n",
    "    def __init__(self, param):\n",
    "        self.v1 = param\n",
    "        \n",
    "class child(parent):\n",
    "    def __init__(self, param):\n",
    "        self.v2 = param\n",
    "        \n",
    "obj = child(11)\n",
    "print(obj.v1 + \" \" + obj.v2)"
   ]
  },
  {
   "cell_type": "code",
   "execution_count": 6,
   "id": "worse-infrastructure",
   "metadata": {},
   "outputs": [
    {
     "data": {
      "text/plain": [
       "True"
      ]
     },
     "execution_count": 6,
     "metadata": {},
     "output_type": "execute_result"
    },
    {
     "data": {
      "text/plain": [
       "True"
      ]
     },
     "execution_count": 6,
     "metadata": {},
     "output_type": "execute_result"
    },
    {
     "data": {
      "text/plain": [
       "True"
      ]
     },
     "execution_count": 6,
     "metadata": {},
     "output_type": "execute_result"
    },
    {
     "data": {
      "text/plain": [
       "True"
      ]
     },
     "execution_count": 6,
     "metadata": {},
     "output_type": "execute_result"
    },
    {
     "data": {
      "text/plain": [
       "False"
      ]
     },
     "execution_count": 6,
     "metadata": {},
     "output_type": "execute_result"
    },
    {
     "data": {
      "text/plain": [
       "1"
      ]
     },
     "execution_count": 6,
     "metadata": {},
     "output_type": "execute_result"
    },
    {
     "data": {
      "text/plain": [
       "10"
      ]
     },
     "execution_count": 6,
     "metadata": {},
     "output_type": "execute_result"
    },
    {
     "data": {
      "text/plain": [
       "11"
      ]
     },
     "execution_count": 6,
     "metadata": {},
     "output_type": "execute_result"
    },
    {
     "data": {
      "text/plain": [
       "10"
      ]
     },
     "execution_count": 6,
     "metadata": {},
     "output_type": "execute_result"
    },
    {
     "data": {
      "text/plain": [
       "10"
      ]
     },
     "execution_count": 6,
     "metadata": {},
     "output_type": "execute_result"
    },
    {
     "data": {
      "text/plain": [
       "True"
      ]
     },
     "execution_count": 6,
     "metadata": {},
     "output_type": "execute_result"
    }
   ],
   "source": [
    "#3.2.2\n",
    "from IPython.core.interactiveshell import InteractiveShell\n",
    "InteractiveShell.ast_node_interactivity = \"all\"\n",
    "import datetime\n",
    "\n",
    "class Golem:\n",
    "    population = 0\n",
    "    _life_span = 10\n",
    "    \n",
    "    def __init__(self, name=None):\n",
    "        self.name = name\n",
    "        self.built_year = datetime.date.today().year\n",
    "        self.__active = True\n",
    "        Golem.population += 1\n",
    "\n",
    "        \n",
    "    def say_hi(self):\n",
    "        print('Hi')\n",
    "        \n",
    "    def cease(self):\n",
    "        self.__active = False\n",
    "        Golem.population -= 1\n",
    "        \n",
    "    def is_active(self):\n",
    "        if datetime.date.today().year - self.built_year >= Golem._life_span:\n",
    "            self.cease()\n",
    "        return self.__active\n",
    "        \n",
    "g = Golem()\n",
    "hasattr(Golem, 'population')\n",
    "hasattr(g, 'population')\n",
    "hasattr(Golem, '_life_span')\n",
    "hasattr(g, '_life_span')\n",
    "hasattr(g, '__active')\n",
    "Golem.population\n",
    "setattr(Golem, 'population', 10)\n",
    "Golem.population\n",
    "x = Golem()\n",
    "Golem.population\n",
    "x.cease()\n",
    "Golem.population\n",
    "getattr(g, 'population')\n",
    "g.is_active()\n"
   ]
  },
  {
   "cell_type": "code",
   "execution_count": 4,
   "id": "emerging-print",
   "metadata": {},
   "outputs": [
    {
     "name": "stdout",
     "output_type": "stream",
     "text": [
      "Help on Running_Golem in module __main__ object:\n",
      "\n",
      "class Running_Golem(Golem)\n",
      " |  Running_Golem(name=None)\n",
      " |  \n",
      " |  Method resolution order:\n",
      " |      Running_Golem\n",
      " |      Golem\n",
      " |      builtins.object\n",
      " |  \n",
      " |  Methods defined here:\n",
      " |  \n",
      " |  run(self)\n",
      " |  \n",
      " |  say_hi(self)\n",
      " |  \n",
      " |  ----------------------------------------------------------------------\n",
      " |  Methods inherited from Golem:\n",
      " |  \n",
      " |  __init__(self, name=None)\n",
      " |      Initialize self.  See help(type(self)) for accurate signature.\n",
      " |  \n",
      " |  ----------------------------------------------------------------------\n",
      " |  Data descriptors inherited from Golem:\n",
      " |  \n",
      " |  __dict__\n",
      " |      dictionary for instance variables (if defined)\n",
      " |  \n",
      " |  __weakref__\n",
      " |      list of weak references to the object (if defined)\n",
      "\n"
     ]
    }
   ],
   "source": [
    "help(rg)"
   ]
  },
  {
   "cell_type": "code",
   "execution_count": 5,
   "id": "dynamic-pattern",
   "metadata": {},
   "outputs": [
    {
     "data": {
      "text/plain": [
       "['__class__',\n",
       " '__delattr__',\n",
       " '__dict__',\n",
       " '__dir__',\n",
       " '__doc__',\n",
       " '__eq__',\n",
       " '__format__',\n",
       " '__ge__',\n",
       " '__getattribute__',\n",
       " '__gt__',\n",
       " '__hash__',\n",
       " '__init__',\n",
       " '__init_subclass__',\n",
       " '__le__',\n",
       " '__lt__',\n",
       " '__module__',\n",
       " '__ne__',\n",
       " '__new__',\n",
       " '__reduce__',\n",
       " '__reduce_ex__',\n",
       " '__repr__',\n",
       " '__setattr__',\n",
       " '__sizeof__',\n",
       " '__str__',\n",
       " '__subclasshook__',\n",
       " '__weakref__',\n",
       " 'built_year',\n",
       " 'name',\n",
       " 'run',\n",
       " 'say_hi']"
      ]
     },
     "execution_count": 5,
     "metadata": {},
     "output_type": "execute_result"
    }
   ],
   "source": [
    "dir(rg)"
   ]
  },
  {
   "cell_type": "code",
   "execution_count": 6,
   "id": "innocent-dance",
   "metadata": {},
   "outputs": [
    {
     "data": {
      "text/plain": [
       "{'name': 'Clay', 'built_year': 2022}"
      ]
     },
     "execution_count": 6,
     "metadata": {},
     "output_type": "execute_result"
    }
   ],
   "source": [
    "rg.__dict__"
   ]
  },
  {
   "cell_type": "code",
   "execution_count": null,
   "id": "strange-oasis",
   "metadata": {},
   "outputs": [],
   "source": [
    "#1.5.1入口\n",
    "#流程控制\n",
    "import random\n",
    "r = random.randrange(1, 1000)\n",
    "\n",
    "if r % 2 == 0:\n",
    "    print(r, 'is even.')\n",
    "else:\n",
    "    print(r, 'is odd.')"
   ]
  },
  {
   "cell_type": "code",
   "execution_count": 2,
   "id": "b4dc5cac",
   "metadata": {},
   "outputs": [
    {
     "name": "stdout",
     "output_type": "stream",
     "text": [
      "1\n",
      "3\n",
      "5\n",
      "7\n",
      "9\n"
     ]
    }
   ],
   "source": [
    "for i in range(10):\n",
    "    if i % 2 !=0:\n",
    "        print(i)"
   ]
  },
  {
   "cell_type": "code",
   "execution_count": 3,
   "id": "453202b5",
   "metadata": {},
   "outputs": [
    {
     "name": "stdout",
     "output_type": "stream",
     "text": [
      "2\n",
      "3\n",
      "5\n",
      "7\n",
      "11\n",
      "13\n",
      "17\n",
      "19\n",
      "23\n",
      "29\n",
      "31\n",
      "37\n",
      "41\n",
      "43\n",
      "47\n",
      "53\n",
      "59\n",
      "61\n",
      "67\n",
      "71\n",
      "73\n",
      "79\n",
      "83\n",
      "89\n",
      "97\n"
     ]
    }
   ],
   "source": [
    "for n in range(2, 100):\n",
    "    if n == 2:\n",
    "        print(n)\n",
    "        continue\n",
    "    for i in range(2, n):\n",
    "        if (n % i) == 0:\n",
    "            break\n",
    "    else:\n",
    "        print(n)"
   ]
  },
  {
   "cell_type": "code",
   "execution_count": 4,
   "id": "3c2c22f0",
   "metadata": {},
   "outputs": [
    {
     "name": "stdout",
     "output_type": "stream",
     "text": [
      "2\n",
      "5\n",
      "7\n",
      "9\n",
      "11\n",
      "11\n",
      "13\n",
      "13\n",
      "15\n",
      "17\n",
      "17\n",
      "17\n",
      "19\n",
      "19\n",
      "19\n",
      "21\n",
      "23\n",
      "23\n",
      "23\n",
      "25\n",
      "25\n",
      "25\n",
      "27\n",
      "29\n",
      "29\n",
      "29\n",
      "29\n",
      "31\n",
      "31\n",
      "31\n",
      "31\n",
      "33\n",
      "35\n",
      "35\n",
      "35\n",
      "37\n",
      "37\n",
      "37\n",
      "37\n",
      "37\n",
      "39\n",
      "41\n",
      "41\n",
      "41\n",
      "41\n",
      "41\n",
      "43\n",
      "43\n",
      "43\n",
      "43\n",
      "43\n",
      "45\n",
      "47\n",
      "47\n",
      "47\n",
      "47\n",
      "47\n",
      "49\n",
      "49\n",
      "49\n",
      "49\n",
      "49\n",
      "51\n",
      "53\n",
      "53\n",
      "53\n",
      "53\n",
      "53\n",
      "53\n",
      "55\n",
      "55\n",
      "55\n",
      "57\n",
      "59\n",
      "59\n",
      "59\n",
      "59\n",
      "59\n",
      "59\n",
      "61\n",
      "61\n",
      "61\n",
      "61\n",
      "61\n",
      "61\n",
      "63\n",
      "65\n",
      "65\n",
      "65\n",
      "67\n",
      "67\n",
      "67\n",
      "67\n",
      "67\n",
      "67\n",
      "67\n",
      "69\n",
      "71\n",
      "71\n",
      "71\n",
      "71\n",
      "71\n",
      "71\n",
      "71\n",
      "73\n",
      "73\n",
      "73\n",
      "73\n",
      "73\n",
      "73\n",
      "73\n",
      "75\n",
      "77\n",
      "77\n",
      "77\n",
      "77\n",
      "77\n",
      "79\n",
      "79\n",
      "79\n",
      "79\n",
      "79\n",
      "79\n",
      "79\n",
      "81\n",
      "83\n",
      "83\n",
      "83\n",
      "83\n",
      "83\n",
      "83\n",
      "83\n",
      "83\n",
      "85\n",
      "85\n",
      "85\n",
      "87\n",
      "89\n",
      "89\n",
      "89\n",
      "89\n",
      "89\n",
      "89\n",
      "89\n",
      "89\n",
      "91\n",
      "91\n",
      "91\n",
      "91\n",
      "91\n",
      "93\n",
      "95\n",
      "95\n",
      "95\n",
      "97\n",
      "97\n",
      "97\n",
      "97\n",
      "97\n",
      "97\n",
      "97\n",
      "97\n",
      "99\n"
     ]
    }
   ],
   "source": [
    "for n in range(2, 100):\n",
    "    if n == 2:\n",
    "        print(n)\n",
    "        continue\n",
    "    for i in range(2, int(n ** 0.5) +1):\n",
    "        if (n % i) == 0:\n",
    "            break\n",
    "        else:\n",
    "            print(n)"
   ]
  },
  {
   "cell_type": "code",
   "execution_count": 5,
   "id": "6db4bf8a",
   "metadata": {},
   "outputs": [
    {
     "name": "stdout",
     "output_type": "stream",
     "text": [
      "83\n",
      "89\n",
      "97\n",
      "101\n",
      "103\n",
      "107\n",
      "109\n"
     ]
    }
   ],
   "source": [
    "def is_prime(n):\n",
    "    if n < 2:\n",
    "        return False\n",
    "    if n == 2:\n",
    "        return True\n",
    "    for m in range(2, int(n**0.5)+1):\n",
    "        if (n % m) == 0:\n",
    "            return False\n",
    "    else:\n",
    "        return True\n",
    "\n",
    "for i in range(80, 110):\n",
    "    if is_prime(i):\n",
    "        print(i)"
   ]
  },
  {
   "cell_type": "code",
   "execution_count": 1,
   "id": "5de637bf",
   "metadata": {},
   "outputs": [
    {
     "name": "stdout",
     "output_type": "stream",
     "text": [
      "438 is even.\n"
     ]
    }
   ],
   "source": [
    "import random\n",
    "\n",
    "r = random.randrange(1, 1000)\n",
    "\n",
    "if r % 2 == 0:\n",
    "    print(f'{r} is even.')\n",
    "else:\n",
    "    print(f'{r} is odd.')"
   ]
  },
  {
   "cell_type": "code",
   "execution_count": 5,
   "id": "cdefbf49",
   "metadata": {},
   "outputs": [
    {
     "name": "stdout",
     "output_type": "stream",
     "text": [
      "Big!\n"
     ]
    }
   ],
   "source": [
    "r = random.randrange(0,13)\n",
    "\n",
    "if r == 7:\n",
    "    print('Draw!')\n",
    "elif r >= 2 and r < 7:\n",
    "    print('Small!')\n",
    "elif r > 7:\n",
    "    print('Big!')\n",
    "else:\n",
    "    print('Not valid!')"
   ]
  },
  {
   "cell_type": "code",
   "execution_count": 2,
   "id": "38eaeec8",
   "metadata": {},
   "outputs": [
    {
     "name": "stdout",
     "output_type": "stream",
     "text": [
      "0 P\n",
      "1 y\n",
      "2 t\n",
      "3 h\n",
      "4 o\n",
      "5 n\n"
     ]
    }
   ],
   "source": [
    "s = 'Python'\n",
    "for char in s:\n",
    "    print(s.index(char), char)"
   ]
  },
  {
   "cell_type": "code",
   "execution_count": null,
   "id": "f634f5f6",
   "metadata": {},
   "outputs": [],
   "source": []
  }
 ],
 "metadata": {
  "kernelspec": {
   "display_name": "Python 3",
   "language": "python",
   "name": "python3"
  },
  "language_info": {
   "codemirror_mode": {
    "name": "ipython",
    "version": 3
   },
   "file_extension": ".py",
   "mimetype": "text/x-python",
   "name": "python",
   "nbconvert_exporter": "python",
   "pygments_lexer": "ipython3",
   "version": "3.7.3"
  }
 },
 "nbformat": 4,
 "nbformat_minor": 5
}
