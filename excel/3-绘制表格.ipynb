{
 "cells": [
  {
   "cell_type": "code",
   "execution_count": 10,
   "id": "1320491c-3ce7-4a2e-985e-910858b034ba",
   "metadata": {},
   "outputs": [],
   "source": [
    "from openpyxl import Workbook\n",
    "from openpyxl.chart import BarChart,Reference\n",
    "\n",
    "wb = Workbook()\n",
    "ws = wb.active\n",
    "\n",
    "rows = [\n",
    "    ['月份', '注册人数'],\n",
    "    ['1月', 866],\n",
    "    ['2月', 2335],\n",
    "    ['3月', 5710],\n",
    "    ['4月', 6482],\n",
    "    ['5月', 6120],\n",
    "    ['6月', 1605],\n",
    "    ['7月', 3813],\n",
    "    ['8月', 4428],\n",
    "    ['9月', 4631],\n",
    "]\n",
    "\n",
    "for row in rows:\n",
    "    ws.append(row)\n",
    "\n",
    "c1 = BarChart()\n",
    "data = Reference(ws, min_col = 2, min_row = 1, max_col = 2, max_row = 10)\n",
    "c1.add_data(data, titles_from_data = True)\n",
    "\n",
    "c1.title = '1-9月注册人数'\n",
    "c1.style = 5\n",
    "c1.y_axis.title = '注册人数'\n",
    "c1.x_axis.title = '月份'\n",
    "\n",
    "ws.add_chart(c1, \"D8\")\n",
    "\n",
    "wb.save(r'/Users/hehao/Desktop/sample_chart2.xlsx')"
   ]
  },
  {
   "cell_type": "code",
   "execution_count": null,
   "id": "786ec0ac-8a06-4989-866b-51133af68a58",
   "metadata": {},
   "outputs": [],
   "source": []
  },
  {
   "cell_type": "code",
   "execution_count": null,
   "id": "63e5af7f-4c2e-4b69-bae4-c84304bcee0f",
   "metadata": {},
   "outputs": [],
   "source": []
  }
 ],
 "metadata": {
  "kernelspec": {
   "display_name": "Python 3 (ipykernel)",
   "language": "python",
   "name": "python3"
  },
  "language_info": {
   "codemirror_mode": {
    "name": "ipython",
    "version": 3
   },
   "file_extension": ".py",
   "mimetype": "text/x-python",
   "name": "python",
   "nbconvert_exporter": "python",
   "pygments_lexer": "ipython3",
   "version": "3.9.6"
  }
 },
 "nbformat": 4,
 "nbformat_minor": 5
}
