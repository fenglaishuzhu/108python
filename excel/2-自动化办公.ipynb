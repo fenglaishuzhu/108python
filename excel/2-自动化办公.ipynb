{
 "cells": [
  {
   "cell_type": "code",
   "execution_count": null,
   "id": "9380d08d-b369-44c8-a128-af08b867c774",
   "metadata": {},
   "outputs": [],
   "source": [
    "第一，问题分解\n",
    "1，读取一系列文件\n",
    "2，读取Excel格式文件\n",
    "3，设计一种python中数据存取格式\n",
    "4，查找，比较两个表格之间的数据"
   ]
  },
  {
   "cell_type": "code",
   "execution_count": null,
   "id": "24b74aca-06ba-41f5-9071-9c1acfe702dd",
   "metadata": {},
   "outputs": [],
   "source": [
    "第二，分析与合并\n",
    "\n",
    "1，学会了\n",
    "2，学会了\n",
    "3，学会了\n",
    "4，暂时有参考"
   ]
  },
  {
   "cell_type": "code",
   "execution_count": 1,
   "id": "dc491fe7-7064-4f4e-bb51-cfb8b11ce27b",
   "metadata": {},
   "outputs": [],
   "source": [
    "import pandas as pd\n",
    "\n",
    "df1 = pd.read_excel('/Users/hehao/Desktop/患者统计/湘雅二患者10.20.xlsx' )\n",
    "df2 = pd.read_excel('/Users/hehao/Desktop/患者统计/09-01-09-24河东.xlsx')"
   ]
  },
  {
   "cell_type": "code",
   "execution_count": 2,
   "id": "a9a3bd5a-828c-4911-abe8-1c0a1fb22837",
   "metadata": {},
   "outputs": [],
   "source": [
    "df = pd.merge(df1, df2[['会计日', '患者名称']], on = \"患者名称\", how = \"left\")"
   ]
  },
  {
   "cell_type": "code",
   "execution_count": 3,
   "id": "ac6c9de3-b92b-49d9-aa4f-af0837c5931b",
   "metadata": {},
   "outputs": [],
   "source": [
    "writer = pd.ExcelWriter('/Users/hehao/Desktop/患者统计/新患者表格.xlsx', engine = 'openpyxl')\n",
    "df.to_excel(writer)\n",
    "writer.save() "
   ]
  },
  {
   "cell_type": "code",
   "execution_count": null,
   "id": "5ce21f62-063d-4797-b9a8-dfc457bcba7d",
   "metadata": {},
   "outputs": [],
   "source": []
  },
  {
   "cell_type": "code",
   "execution_count": null,
   "id": "66f5e914-fe92-495c-a2b5-10813121f2ca",
   "metadata": {},
   "outputs": [],
   "source": []
  }
 ],
 "metadata": {
  "kernelspec": {
   "display_name": "Python 3 (ipykernel)",
   "language": "python",
   "name": "python3"
  },
  "language_info": {
   "codemirror_mode": {
    "name": "ipython",
    "version": 3
   },
   "file_extension": ".py",
   "mimetype": "text/x-python",
   "name": "python",
   "nbconvert_exporter": "python",
   "pygments_lexer": "ipython3",
   "version": "3.9.6"
  }
 },
 "nbformat": 4,
 "nbformat_minor": 5
}
