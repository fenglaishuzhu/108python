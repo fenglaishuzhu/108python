{
 "cells": [
  {
   "cell_type": "code",
   "execution_count": 2,
   "id": "411e40e8-97d4-4cdb-8e2a-6012878d7264",
   "metadata": {},
   "outputs": [],
   "source": [
    "第一，打开已有的工作簿"
   ]
  },
  {
   "cell_type": "code",
   "execution_count": 2,
   "id": "2ab8d454-ab95-4df6-aba0-9592678f951c",
   "metadata": {},
   "outputs": [
    {
     "data": {
      "text/plain": [
       "<openpyxl.workbook.workbook.Workbook at 0x11986d8b0>"
      ]
     },
     "execution_count": 2,
     "metadata": {},
     "output_type": "execute_result"
    }
   ],
   "source": [
    "from openpyxl import load_workbook\n",
    "wb = load_workbook(r'/Users/hehao/Desktop/患者统计/湘雅二患者10.20.xlsx')\n",
    "wb"
   ]
  },
  {
   "cell_type": "code",
   "execution_count": null,
   "id": "006431be-553b-42b6-89e2-8ac9e626e5e9",
   "metadata": {},
   "outputs": [],
   "source": [
    "第二，创建新的工作簿"
   ]
  },
  {
   "cell_type": "code",
   "execution_count": 3,
   "id": "62813108-55da-46fe-a68f-cf292399438c",
   "metadata": {},
   "outputs": [],
   "source": [
    "from openpyxl import Workbook\n",
    "wb = Workbook()\n",
    "\n",
    "wb.save(r\"/Users/hehao/Desktop/患者统计/新工作簿1.xlsx\")"
   ]
  },
  {
   "cell_type": "code",
   "execution_count": null,
   "id": "da51ef16-5ebd-481e-94a5-7b3de9d441d0",
   "metadata": {},
   "outputs": [],
   "source": [
    "第三，给新工作簿赋值"
   ]
  },
  {
   "cell_type": "code",
   "execution_count": 8,
   "id": "78d069b2-6542-46d4-b241-4c06e68e9eb0",
   "metadata": {},
   "outputs": [],
   "source": [
    "from openpyxl import Workbook\n",
    "wb = Workbook()\n",
    "\n",
    "ws = wb.active #在插入数据之前，需要先激活Sheet\n",
    "ws[\"A1\"] = 1 #给单元格A3赋值1\n",
    "ws.cell(row = 2, column = 2).value = 'A' #给第3行第2列赋值A\n",
    "data = [\n",
    "    ['Fruit', 2011, 2012],\n",
    "    ['Apples', 1000, 2000]\n",
    "]\n",
    "\n",
    "for row in data:\n",
    "    ws.append(row)\n",
    "#对多行进行赋值，加在末尾   \n",
    "wb.save(r\"/Users/hehao/Desktop/患者统计/新工作簿1.xlsx\")"
   ]
  },
  {
   "cell_type": "code",
   "execution_count": null,
   "id": "b16fefe2-5ed9-4c1a-b76c-502d860e7ed3",
   "metadata": {},
   "outputs": [],
   "source": []
  }
 ],
 "metadata": {
  "kernelspec": {
   "display_name": "Python 3 (ipykernel)",
   "language": "python",
   "name": "python3"
  },
  "language_info": {
   "codemirror_mode": {
    "name": "ipython",
    "version": 3
   },
   "file_extension": ".py",
   "mimetype": "text/x-python",
   "name": "python",
   "nbconvert_exporter": "python",
   "pygments_lexer": "ipython3",
   "version": "3.9.6"
  }
 },
 "nbformat": 4,
 "nbformat_minor": 5
}
