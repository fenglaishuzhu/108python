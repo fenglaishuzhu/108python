{
 "cells": [
  {
   "cell_type": "code",
   "execution_count": 1,
   "id": "b9f90004-7034-49bc-8b43-06dab47f3815",
   "metadata": {},
   "outputs": [],
   "source": [
    "from openpyxl import Workbook\n",
    "from openpyxl.chart import BarChart,Reference"
   ]
  },
  {
   "cell_type": "code",
   "execution_count": 2,
   "id": "b1100b4f-b735-4564-b0ae-a2817e019366",
   "metadata": {},
   "outputs": [],
   "source": [
    "wb = Workbook()\n",
    "ws = wb.active"
   ]
  },
  {
   "cell_type": "code",
   "execution_count": 5,
   "id": "2444a27b-2109-44d2-b8f7-9af7ea20129c",
   "metadata": {
    "jupyter": {
     "source_hidden": true
    },
    "tags": []
   },
   "outputs": [],
   "source": [
    "rows = [['月份', '注册人数'],\n",
    "       ['1月', 866],\n",
    "       ['2月', 2335],\n",
    "       ['3月', 5710],\n",
    "       ['4月', 6482],\n",
    "       ['5月', 6120],\n",
    "       ['6月', 1605],\n",
    "       ['7月', 3813],\n",
    "       ['8月', 4428],\n",
    "       ['9月', 4631],\n",
    "       ]"
   ]
  },
  {
   "cell_type": "code",
   "execution_count": 7,
   "id": "c7e7f206-7738-48a6-84a4-57024146f5cd",
   "metadata": {},
   "outputs": [],
   "source": [
    "for row in rows:\n",
    "    ws.append(row)\n",
    "    \n",
    "cl = BarChart()\n",
    "data = Reference(ws, min_col = 2, min_row = 1, max_row = 10)\n",
    "cl.add_data(data, titles_from_data = True)\n",
    "\n",
    "cl.title = '1-9月注册人数'\n",
    "cl.style = 5\n",
    "cl.y_axis.title = '注册人数'\n",
    "cl.x_axis.title = '月份'\n",
    "\n",
    "ws.add_chart(cl, 'D8')\n",
    "wb.save(r'/Users/mac/Desktop/绘图表格.xlsx' )"
   ]
  },
  {
   "cell_type": "code",
   "execution_count": null,
   "id": "53f8a146-bc1f-4fac-b01f-84d7c991f862",
   "metadata": {},
   "outputs": [],
   "source": []
  }
 ],
 "metadata": {
  "kernelspec": {
   "display_name": "Python 3 (ipykernel)",
   "language": "python",
   "name": "python3"
  },
  "language_info": {
   "codemirror_mode": {
    "name": "ipython",
    "version": 3
   },
   "file_extension": ".py",
   "mimetype": "text/x-python",
   "name": "python",
   "nbconvert_exporter": "python",
   "pygments_lexer": "ipython3",
   "version": "3.9.6"
  }
 },
 "nbformat": 4,
 "nbformat_minor": 5
}
