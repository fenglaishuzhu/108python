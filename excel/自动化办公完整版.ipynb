{
 "cells": [
  {
   "cell_type": "code",
   "execution_count": 5,
   "id": "41e5fc39-5875-4e58-b985-a7d4ada848fa",
   "metadata": {},
   "outputs": [],
   "source": [
    "import pandas as pd\n",
    "from pathlib import Path \n",
    "\n",
    "def read_excel_data(path):\n",
    "    df = pd.read_excel(path, header = None) \n",
    "    total = df.loc[df[0] == '总计']\n",
    "    row = {}\n",
    "    row['员工ID'] = df.iloc[3, 7]\n",
    "    row['员工姓名'] = df.iloc[3, 1]\n",
    "    row['开始时间'] = df.iloc[0, 7]\n",
    "    row['结束时间'] = df.iloc[0, 9]\n",
    "    row['酒店'] = total.iloc[0, 3]\n",
    "    row['交通费'] = total.iloc[0, 4]\n",
    "    row['油费'] = total.iloc[0, 5]\n",
    "    row['餐饮'] = total.iloc[0, 6]\n",
    "    row['电话'] = total.iloc[0, 7]\n",
    "    row['招待费'] = total.iloc[0, 8]\n",
    "    row['杂费'] = total.iloc[0, 9]\n",
    "    row['总计'] = total.iloc[0, 10]\n",
    "    return row\n",
    "\n",
    "def main():\n",
    "    CWD = '/Users/hehao/Desktop'\n",
    "    \n",
    "    p = Path(CWD)\n",
    "    rows = []\n",
    "    for q in p.glob('**/[!All]*.xlsx'):\n",
    "        rows.append(read_excel_data(q))\n",
    "    df = pd.DataFrame(rows)\n",
    "    writer = pd.ExcelWriter(p /'All.xls', engine = 'openpyxl')\n",
    "    df.to_excel(writer)\n",
    "    writer.save() \n",
    "\n",
    "if __name__ ==  '__main__':\n",
    "    main()\n",
    "    "
   ]
  },
  {
   "cell_type": "code",
   "execution_count": null,
   "id": "30304194-1340-4fd9-87a2-e0786e43dd6d",
   "metadata": {},
   "outputs": [],
   "source": []
  },
  {
   "cell_type": "code",
   "execution_count": null,
   "id": "ec53809e-7cc5-4e9c-86e9-2f631b6c7ae3",
   "metadata": {},
   "outputs": [],
   "source": []
  },
  {
   "cell_type": "code",
   "execution_count": null,
   "id": "d526abe8-113a-4260-a380-0cd4c0e5773a",
   "metadata": {},
   "outputs": [],
   "source": []
  }
 ],
 "metadata": {
  "kernelspec": {
   "display_name": "Python 3 (ipykernel)",
   "language": "python",
   "name": "python3"
  },
  "language_info": {
   "codemirror_mode": {
    "name": "ipython",
    "version": 3
   },
   "file_extension": ".py",
   "mimetype": "text/x-python",
   "name": "python",
   "nbconvert_exporter": "python",
   "pygments_lexer": "ipython3",
   "version": "3.9.6"
  }
 },
 "nbformat": 4,
 "nbformat_minor": 5
}
