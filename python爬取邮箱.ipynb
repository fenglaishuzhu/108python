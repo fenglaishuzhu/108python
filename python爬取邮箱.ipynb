{
 "cells": [
  {
   "cell_type": "code",
   "execution_count": 5,
   "id": "9f6c052d",
   "metadata": {},
   "outputs": [],
   "source": [
    "import requests\n",
    "import re"
   ]
  },
  {
   "cell_type": "code",
   "execution_count": 6,
   "id": "fb0d582a",
   "metadata": {},
   "outputs": [],
   "source": [
    "headers = {'User-Agent': 'Mozilla/5.0 (Macintosh; Intel Mac OS X 10_15_7) AppleWebKit/537.36 (KHTML, like Gecko) Chrome/93.0.4577.82 Safari/537.36'} #根据自己的电脑设置，2021.9.27有相关内容\n",
    "url = 'https://tieba.baidu.com/p/2314539885'\n",
    "res = requests.get(url, headers=headers).text"
   ]
  },
  {
   "cell_type": "code",
   "execution_count": 10,
   "id": "6bab8a79",
   "metadata": {},
   "outputs": [
    {
     "name": "stdout",
     "output_type": "stream",
     "text": [
      "['962481891@qq.com', '740846983@qq.com', '847886316@qq.com', '1036777545@qq.com', '752847337@qq.com', '2621283024@qq.com', '734110053@qq.com', '912408258@qq.com', '819230339@qq.com', '263332746@qq.com', '865495085@qq.com', '80951562@qq.com', '2543366802@qq.com', '811393332@qq.com', '903473191@qq.com', '969293009@qq.com', '1046630995@qq.com', '912632313@qq.com', '43428187@qq.com', '811393332@qq.com', '793624272@qq.com', '793624272@qq.com', '964300461@qq.com', '995987410@qq.com', '939639656@qq.com', '11297345@qq.com', '52142551@qq.com', '469337958@qq.com', '157098742@qq.com', 'xiefei1156510929@vip.qq.com', '1254626756@qq.com', '6873824@qq.com', '751392725@qq.com', '1071310729@qq.com', '421310568@qq.com', '1661408343@qq.com', '1071310729@qq.com', '1071310729@qq.com']\n",
      "第1页爬取成功！\n",
      "['1303342232@qq.com', '11537563@qq.com', '1225562682@qq.com', '2271469797@qq.com', '1131735219@qq.com', '1850952028@qq.com', '768090225@qq.com', '675610785@qq.com', '3802546427@qq.com', '527485273@qq.com', '303093195@qq.com', '137877194@qq.com', '1002748819@qq.com', '576133023@qq.com', 'u30021303342232@qq.com']\n",
      "第2页爬取成功！\n",
      "['1656079972@qq.com', '245558590@qq.com', '912653043@qq.com', '2676670283@qq.com', 'closeear@sina.cn', '974177162@qq.com', '1397455384@qq.com', '2676670283@qq.com', 'shuang820206997@qq.com', '493070081@qq.com', '173338275@qq.com', '728054153@qq.com', '190719046@qq.com', '775374504@qq.com', '1656079972@qq.com']\n",
      "第3页爬取成功！\n",
      "['2311533003@qq.com', '1844502891@qq.com', 'bohuigaoyu@126.com', '917315524@qq.com', '543103123@qq.com', 'wuji6039@qq.com', '136441144@qq.com', 'zcai88888888@qq.com', '865133089@qq.com', '323194694@qq.com', '649206784@qq.com', '954016523@qq.com', '2311533003@qq.com']\n",
      "第4页爬取成功！\n",
      "['shuang820206997@qq.com', '892411227@qq.com', '18003780475@163.com', '429444586@qq.com', '710442523@qq.com', 'rxt37@qq.com', '2724425555@qq.com', '1301944945@qq.com', '1037528094@qq.com', '736824750@qq.com', '147546563@qq.com', '875156515@qq.com', 'shuang820206997@qq.com']\n",
      "第5页爬取成功！\n",
      "['5738168@qq.com', '15933551213@qq.com', '136690925@qq.com', '972917557@qq.com', '287010286@qq.com', '372589123@qq.com', 'rxt37@qq.com', '584199557@qq.com', '1062547651@qq.com', '1824811571@qq.com', '2281250508@qq.com', '1013167501@qq.com', '984851820@qq.com', '5738168@qq.com']\n",
      "第6页爬取成功！\n",
      "['1107740376@qq.com', '1580152956@qq.com', '741072041@qq.com', '1071441154@qq.com', '649206784@qq.com', '489517901@qq.com', '769845792@qq.com', 'my90517@163.com', '767758571@qq.com', '742875166@qq.com', '577554948@qq.com', '1107740376@qq.com']\n",
      "第7页爬取成功！\n",
      "['903473191@qq.com', '854436801@qq.com', '942650366@qq.com', '270311833@qq.com', '9526051@qq.com', '66881892@qq.com', '826536682@qq.com', '917988553@qq.com', '1752017577@qq.com', '1013189478@qq.com', '493001397@qq.com', '992220022@qq.com', '2262898201@qq.com', '903473191@qq.com']\n",
      "第8页爬取成功！\n",
      "['2370584304@qq.com', '756458249@qq.com', '451761229@qq.com', '471566186@qq.com', '996678349@qq.com', '375527190@qq.com', '945128020@qq.com', '1900006543@qq.com', '2205550742@qq.com', '1628107438@qq.com', '154516199@qq.com', '2370584304@qq.com']\n",
      "第9页爬取成功！\n",
      "['www550477843@qq.com', '812984292@qq.com', '252382424@qq.com', '2370584304@qq.com', '1137338413@qq.com', '320730476@qq.com', '458288234@qq.com', '409114433@qq.com', '546115207@qq.com', '577975609@qq.com', '1154473330@qq.com']\n",
      "第10页爬取成功！\n"
     ]
    }
   ],
   "source": [
    "def db(page):\n",
    "    # 1.获取网页源代码\n",
    "    url = 'https://tieba.baidu.com/p/2314539885?pn=' + str(page)\n",
    "    res = requests.get(url, headers=headers).text\n",
    "    # 2. 用正则表达式提取邮箱\n",
    "    emails = re.findall(r\"[a-z0-9\\.\\-+_]+@[a-z0-9\\.\\-+_]+\\.[a-z]+\", res)\n",
    "    print(emails)\n",
    "    \n",
    "for i in range(10):\n",
    "    db(i + 1)\n",
    "    print('第' + str(i + 1) + '页爬取成功！')"
   ]
  },
  {
   "cell_type": "code",
   "execution_count": null,
   "id": "fdd9396d",
   "metadata": {},
   "outputs": [],
   "source": []
  }
 ],
 "metadata": {
  "kernelspec": {
   "display_name": "Python 3 (ipykernel)",
   "language": "python",
   "name": "python3"
  },
  "language_info": {
   "codemirror_mode": {
    "name": "ipython",
    "version": 3
   },
   "file_extension": ".py",
   "mimetype": "text/x-python",
   "name": "python",
   "nbconvert_exporter": "python",
   "pygments_lexer": "ipython3",
   "version": "3.10.0"
  }
 },
 "nbformat": 4,
 "nbformat_minor": 5
}
