{
 "cells": [
  {
   "cell_type": "code",
   "execution_count": 1,
   "metadata": {
    "execution": {
     "iopub.execute_input": "2022-01-04T12:09:02.141Z",
     "iopub.status.busy": "2022-01-04T12:09:02.128Z",
     "iopub.status.idle": "2022-01-04T12:09:02.172Z",
     "shell.execute_reply": "2022-01-04T12:09:02.194Z"
    },
    "jupyter": {
     "outputs_hidden": false,
     "source_hidden": false
    },
    "nteract": {
     "transient": {
      "deleting": false
     }
    }
   },
   "outputs": [],
   "source": [
    "import  requests\n",
    "import  time\n",
    "from bs4  import  BeautifulSoup"
   ]
  },
  {
   "cell_type": "code",
   "execution_count": 2,
   "metadata": {
    "execution": {
     "iopub.execute_input": "2022-01-07T06:14:03.069Z",
     "iopub.status.busy": "2022-01-07T06:14:03.058Z",
     "iopub.status.idle": "2022-01-07T06:14:03.083Z",
     "shell.execute_reply": "2022-01-07T06:14:03.094Z"
    },
    "jupyter": {
     "outputs_hidden": false,
     "source_hidden": false
    },
    "nteract": {
     "transient": {
      "deleting": false
     }
    }
   },
   "outputs": [],
   "source": [
    "def get_html(url):\n",
    "\n",
    "     try:\n",
    "\n",
    "         r=requests.get(url,time=30)\n",
    "         r.status_code\n",
    "         r.encoding=r.appartent_endcoding\n",
    "         \n",
    "         return  r.text\n",
    "         \n",
    "     except:\n",
    "        return  \"ERROR\""
   ]
  },
  {
   "cell_type": "code",
   "execution_count": 3,
   "metadata": {
    "execution": {
     "iopub.execute_input": "2022-01-07T08:46:17.195Z",
     "iopub.status.busy": "2022-01-07T08:46:17.186Z",
     "iopub.status.idle": "2022-01-07T08:46:17.211Z",
     "shell.execute_reply": "2022-01-07T08:46:17.217Z"
    },
    "jupyter": {
     "outputs_hidden": false,
     "source_hidden": false
    },
    "nteract": {
     "transient": {
      "deleting": false
     }
    }
   },
   "outputs": [],
   "source": [
    "def get_content(url):\n",
    "\n",
    "    connents=[]\n",
    "\n",
    "    html=get_html(url)\n",
    "\n",
    "    soup=BeautifulSoup(html,'lxml')\n",
    "    \n",
    "    emails=soup.find_all('div',attrs={'class':'pb_content clearfix'})\n",
    "\n",
    "    for  div  in emails:\n",
    "        comment={}\n",
    "\n",
    "        try:\n",
    "         comment['email']=div.find_all('div',attrs={'class':'d_post_content_main'})\n",
    "\n",
    "         connents.append(comment)\n",
    "\n",
    "        except:\n",
    "            print('故障！')\n",
    "    return connents\n",
    "    "
   ]
  },
  {
   "cell_type": "code",
   "execution_count": 4,
   "metadata": {
    "execution": {
     "iopub.execute_input": "2022-01-04T12:38:33.577Z",
     "iopub.status.busy": "2022-01-04T12:38:33.569Z",
     "iopub.status.idle": "2022-01-04T12:38:33.589Z",
     "shell.execute_reply": "2022-01-04T12:38:33.595Z"
    },
    "jupyter": {
     "outputs_hidden": false,
     "source_hidden": false
    },
    "nteract": {
     "transient": {
      "deleting": false
     }
    }
   },
   "outputs": [],
   "source": [
    "def Out2File(dict):\n",
    "\n",
    "    with open('li','a+') as f:\n",
    "\n",
    "        for comment  in dict:\n",
    "            f.write('邮箱\\n'.format(comment['email']))\n",
    "\n",
    "        print('当前网页爬取完成')"
   ]
  },
  {
   "cell_type": "code",
   "execution_count": 5,
   "metadata": {
    "execution": {
     "iopub.execute_input": "2022-01-04T12:38:34.586Z",
     "iopub.status.busy": "2022-01-04T12:38:34.579Z",
     "iopub.status.idle": "2022-01-04T12:38:34.600Z",
     "shell.execute_reply": "2022-01-04T12:38:34.605Z"
    },
    "jupyter": {
     "outputs_hidden": false,
     "source_hidden": false
    },
    "nteract": {
     "transient": {
      "deleting": false
     }
    }
   },
   "outputs": [],
   "source": [
    "def  main(base_url,deep):\n",
    "\n",
    "    url_list=[]\n",
    "\n",
    "    for  i in  range(1,deep+1):\n",
    "        url_list.append(base_url+'?pn='+str(i))\n",
    "    print('所有网页下载到本地！开始筛选信息。。。。。')\n",
    "\n",
    "    \n",
    "     \n",
    "    for url in url_list:\n",
    "        content=get_content(url)\n",
    "        Out2File(content)\n",
    "    print('所有网页都已经完毕')"
   ]
  },
  {
   "cell_type": "code",
   "execution_count": 6,
   "metadata": {
    "execution": {
     "iopub.execute_input": "2022-01-04T12:42:48.983Z",
     "iopub.status.busy": "2022-01-04T12:42:48.971Z",
     "iopub.status.idle": "2022-01-04T12:42:49.070Z",
     "shell.execute_reply": "2022-01-04T12:42:49.086Z"
    },
    "jupyter": {
     "outputs_hidden": false,
     "source_hidden": false
    },
    "nteract": {
     "transient": {
      "deleting": false
     }
    }
   },
   "outputs": [
    {
     "name": "stdout",
     "output_type": "stream",
     "text": [
      "所有网页下载到本地！开始筛选信息。。。。。\n",
      "当前网页爬取完成\n",
      "当前网页爬取完成\n",
      "当前网页爬取完成\n",
      "当前网页爬取完成\n",
      "当前网页爬取完成\n",
      "当前网页爬取完成\n",
      "当前网页爬取完成\n",
      "当前网页爬取完成\n",
      "当前网页爬取完成\n",
      "当前网页爬取完成\n",
      "当前网页爬取完成\n",
      "当前网页爬取完成\n",
      "当前网页爬取完成\n",
      "当前网页爬取完成\n",
      "当前网页爬取完成\n",
      "当前网页爬取完成\n",
      "当前网页爬取完成\n",
      "当前网页爬取完成\n",
      "当前网页爬取完成\n",
      "当前网页爬取完成\n",
      "当前网页爬取完成\n",
      "当前网页爬取完成\n",
      "当前网页爬取完成\n",
      "当前网页爬取完成\n",
      "当前网页爬取完成\n",
      "当前网页爬取完成\n",
      "当前网页爬取完成\n",
      "当前网页爬取完成\n",
      "当前网页爬取完成\n",
      "当前网页爬取完成\n",
      "当前网页爬取完成\n",
      "当前网页爬取完成\n",
      "当前网页爬取完成\n",
      "当前网页爬取完成\n",
      "当前网页爬取完成\n",
      "当前网页爬取完成\n",
      "当前网页爬取完成\n",
      "当前网页爬取完成\n",
      "当前网页爬取完成\n",
      "当前网页爬取完成\n",
      "当前网页爬取完成\n",
      "当前网页爬取完成\n",
      "当前网页爬取完成\n",
      "当前网页爬取完成\n",
      "当前网页爬取完成\n",
      "当前网页爬取完成\n",
      "当前网页爬取完成\n",
      "当前网页爬取完成\n",
      "当前网页爬取完成\n",
      "当前网页爬取完成\n",
      "当前网页爬取完成\n",
      "当前网页爬取完成\n",
      "当前网页爬取完成\n",
      "当前网页爬取完成\n",
      "当前网页爬取完成\n",
      "当前网页爬取完成\n",
      "当前网页爬取完成\n",
      "当前网页爬取完成\n",
      "所有网页都已经完毕\n"
     ]
    }
   ],
   "source": [
    "base_url='https://tieba.baidu.com/p/2314539885'\n",
    "deep=58\n",
    "\n",
    "if __name__=='__main__':\n",
    "\n",
    "   main(base_url,deep)"
   ]
  },
  {
   "cell_type": "code",
   "execution_count": 11,
   "metadata": {
    "jupyter": {
     "outputs_hidden": false,
     "source_hidden": false
    },
    "nteract": {
     "transient": {
      "deleting": false
     }
    }
   },
   "outputs": [
    {
     "ename": "NameError",
     "evalue": "name 'soup' is not defined",
     "output_type": "error",
     "traceback": [
      "\u001b[0;31m---------------------------------------------------------------------------\u001b[0m",
      "\u001b[0;31mNameError\u001b[0m                                 Traceback (most recent call last)",
      "\u001b[0;32m/var/folders/lp/b1b2xb0s28x5mxn0gv6b40zm0000gn/T/ipykernel_20793/3196103264.py\u001b[0m in \u001b[0;36m<module>\u001b[0;34m\u001b[0m\n\u001b[0;32m----> 1\u001b[0;31m \u001b[0mtable\u001b[0m\u001b[0;34m=\u001b[0m\u001b[0msoup\u001b[0m\u001b[0;34m.\u001b[0m\u001b[0mselect\u001b[0m\u001b[0;34m(\u001b[0m\u001b[0;34m'div'\u001b[0m\u001b[0;34m,\u001b[0m\u001b[0mclass_\u001b[0m\u001b[0;34m=\u001b[0m\u001b[0;34m'pb_content clearfix'\u001b[0m\u001b[0;34m)\u001b[0m\u001b[0;34m.\u001b[0m\u001b[0mfind_all\u001b[0m\u001b[0;34m(\u001b[0m\u001b[0;34m'div'\u001b[0m\u001b[0;34m,\u001b[0m\u001b[0mclass_\u001b[0m\u001b[0;34m=\u001b[0m\u001b[0;34m'd_post_content_main'\u001b[0m\u001b[0;34m)\u001b[0m\u001b[0;34m\u001b[0m\u001b[0;34m\u001b[0m\u001b[0m\n\u001b[0m\u001b[1;32m      2\u001b[0m \u001b[0;34m\u001b[0m\u001b[0m\n\u001b[1;32m      3\u001b[0m \u001b[0mprint\u001b[0m\u001b[0;34m(\u001b[0m\u001b[0mtable\u001b[0m\u001b[0;34m)\u001b[0m\u001b[0;34m\u001b[0m\u001b[0;34m\u001b[0m\u001b[0m\n",
      "\u001b[0;31mNameError\u001b[0m: name 'soup' is not defined"
     ]
    }
   ],
   "source": [
    "\n",
    "\n",
    "\n",
    "table=soup.select('div',class_='pb_content clearfix').find_all('div',class_='d_post_content_main')\n",
    "    \n",
    "print(table)\n"
   ]
  },
  {
   "cell_type": "code",
   "execution_count": null,
   "metadata": {},
   "outputs": [],
   "source": [
    "soup = BeautifulSoup(res, 'html.parser')"
   ]
  }
 ],
 "metadata": {
  "kernel_info": {
   "name": "python3"
  },
  "kernelspec": {
   "display_name": "Python 3 (ipykernel)",
   "language": "python",
   "name": "python3"
  },
  "language_info": {
   "codemirror_mode": {
    "name": "ipython",
    "version": 3
   },
   "file_extension": ".py",
   "mimetype": "text/x-python",
   "name": "python",
   "nbconvert_exporter": "python",
   "pygments_lexer": "ipython3",
   "version": "3.10.0"
  },
  "nteract": {
   "version": "0.28.0"
  }
 },
 "nbformat": 4,
 "nbformat_minor": 1
}
