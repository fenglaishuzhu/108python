{
 "cells": [
  {
   "cell_type": "code",
   "execution_count": 1,
   "id": "collective-temperature",
   "metadata": {},
   "outputs": [],
   "source": [
    "import pandas as pd"
   ]
  },
  {
   "cell_type": "code",
   "execution_count": 2,
   "id": "developing-offering",
   "metadata": {},
   "outputs": [
    {
     "data": {
      "text/html": [
       "<div>\n",
       "<style scoped>\n",
       "    .dataframe tbody tr th:only-of-type {\n",
       "        vertical-align: middle;\n",
       "    }\n",
       "\n",
       "    .dataframe tbody tr th {\n",
       "        vertical-align: top;\n",
       "    }\n",
       "\n",
       "    .dataframe thead th {\n",
       "        text-align: right;\n",
       "    }\n",
       "</style>\n",
       "<table border=\"1\" class=\"dataframe\">\n",
       "  <thead>\n",
       "    <tr style=\"text-align: right;\">\n",
       "      <th></th>\n",
       "      <th>0</th>\n",
       "      <th>1</th>\n",
       "      <th>2</th>\n",
       "      <th>3</th>\n",
       "      <th>4</th>\n",
       "      <th>5</th>\n",
       "      <th>6</th>\n",
       "      <th>7</th>\n",
       "      <th>8</th>\n",
       "      <th>9</th>\n",
       "      <th>10</th>\n",
       "    </tr>\n",
       "  </thead>\n",
       "  <tbody>\n",
       "    <tr>\n",
       "      <th>0</th>\n",
       "      <td>费用报销单</td>\n",
       "      <td>NaN</td>\n",
       "      <td>NaN</td>\n",
       "      <td>结账单号</td>\n",
       "      <td>NaN</td>\n",
       "      <td>付款日期</td>\n",
       "      <td>开始时间</td>\n",
       "      <td>2019-08-10 00:00:00</td>\n",
       "      <td>结束时间</td>\n",
       "      <td>2019-08-21 00:00:00</td>\n",
       "      <td>NaN</td>\n",
       "    </tr>\n",
       "    <tr>\n",
       "      <th>1</th>\n",
       "      <td>事由</td>\n",
       "      <td>NaN</td>\n",
       "      <td>NaN</td>\n",
       "      <td>NaN</td>\n",
       "      <td>NaN</td>\n",
       "      <td>NaN</td>\n",
       "      <td>NaN</td>\n",
       "      <td>NaN</td>\n",
       "      <td>NaN</td>\n",
       "      <td>NaN</td>\n",
       "      <td>NaN</td>\n",
       "    </tr>\n",
       "    <tr>\n",
       "      <th>2</th>\n",
       "      <td>员工信息</td>\n",
       "      <td>NaN</td>\n",
       "      <td>NaN</td>\n",
       "      <td>职位</td>\n",
       "      <td>NaN</td>\n",
       "      <td>NaN</td>\n",
       "      <td>身份证号</td>\n",
       "      <td>NaN</td>\n",
       "      <td>NaN</td>\n",
       "      <td>NaN</td>\n",
       "      <td>NaN</td>\n",
       "    </tr>\n",
       "    <tr>\n",
       "      <th>3</th>\n",
       "      <td>姓名</td>\n",
       "      <td>李四</td>\n",
       "      <td>NaN</td>\n",
       "      <td>经历</td>\n",
       "      <td>NaN</td>\n",
       "      <td>NaN</td>\n",
       "      <td>员工ID</td>\n",
       "      <td>1</td>\n",
       "      <td>NaN</td>\n",
       "      <td>NaN</td>\n",
       "      <td>NaN</td>\n",
       "    </tr>\n",
       "    <tr>\n",
       "      <th>4</th>\n",
       "      <td>NaN</td>\n",
       "      <td>NaN</td>\n",
       "      <td>NaN</td>\n",
       "      <td>NaN</td>\n",
       "      <td>NaN</td>\n",
       "      <td>NaN</td>\n",
       "      <td>NaN</td>\n",
       "      <td>NaN</td>\n",
       "      <td>NaN</td>\n",
       "      <td>NaN</td>\n",
       "      <td>NaN</td>\n",
       "    </tr>\n",
       "    <tr>\n",
       "      <th>5</th>\n",
       "      <td>日期</td>\n",
       "      <td>账目</td>\n",
       "      <td>说明</td>\n",
       "      <td>酒店</td>\n",
       "      <td>交通费</td>\n",
       "      <td>油费</td>\n",
       "      <td>餐饮</td>\n",
       "      <td>电话</td>\n",
       "      <td>招待费</td>\n",
       "      <td>杂费</td>\n",
       "      <td>总计</td>\n",
       "    </tr>\n",
       "    <tr>\n",
       "      <th>6</th>\n",
       "      <td>2019-08-10 00:00:00</td>\n",
       "      <td>NaN</td>\n",
       "      <td>NaN</td>\n",
       "      <td>650</td>\n",
       "      <td>1900</td>\n",
       "      <td>NaN</td>\n",
       "      <td>240</td>\n",
       "      <td>NaN</td>\n",
       "      <td>NaN</td>\n",
       "      <td>NaN</td>\n",
       "      <td>2790</td>\n",
       "    </tr>\n",
       "    <tr>\n",
       "      <th>7</th>\n",
       "      <td>2019-08-21 00:00:00</td>\n",
       "      <td>NaN</td>\n",
       "      <td>NaN</td>\n",
       "      <td>NaN</td>\n",
       "      <td>NaN</td>\n",
       "      <td>NaN</td>\n",
       "      <td>365</td>\n",
       "      <td>NaN</td>\n",
       "      <td>120</td>\n",
       "      <td>NaN</td>\n",
       "      <td>485</td>\n",
       "    </tr>\n",
       "    <tr>\n",
       "      <th>8</th>\n",
       "      <td>NaN</td>\n",
       "      <td>NaN</td>\n",
       "      <td>NaN</td>\n",
       "      <td>NaN</td>\n",
       "      <td>NaN</td>\n",
       "      <td>NaN</td>\n",
       "      <td>NaN</td>\n",
       "      <td>NaN</td>\n",
       "      <td>NaN</td>\n",
       "      <td>NaN</td>\n",
       "      <td>NaN</td>\n",
       "    </tr>\n",
       "    <tr>\n",
       "      <th>9</th>\n",
       "      <td>NaN</td>\n",
       "      <td>NaN</td>\n",
       "      <td>NaN</td>\n",
       "      <td>NaN</td>\n",
       "      <td>NaN</td>\n",
       "      <td>NaN</td>\n",
       "      <td>NaN</td>\n",
       "      <td>NaN</td>\n",
       "      <td>NaN</td>\n",
       "      <td>NaN</td>\n",
       "      <td>NaN</td>\n",
       "    </tr>\n",
       "    <tr>\n",
       "      <th>10</th>\n",
       "      <td>NaN</td>\n",
       "      <td>NaN</td>\n",
       "      <td>NaN</td>\n",
       "      <td>NaN</td>\n",
       "      <td>NaN</td>\n",
       "      <td>NaN</td>\n",
       "      <td>NaN</td>\n",
       "      <td>NaN</td>\n",
       "      <td>NaN</td>\n",
       "      <td>NaN</td>\n",
       "      <td>NaN</td>\n",
       "    </tr>\n",
       "    <tr>\n",
       "      <th>11</th>\n",
       "      <td>NaN</td>\n",
       "      <td>NaN</td>\n",
       "      <td>NaN</td>\n",
       "      <td>NaN</td>\n",
       "      <td>NaN</td>\n",
       "      <td>NaN</td>\n",
       "      <td>NaN</td>\n",
       "      <td>NaN</td>\n",
       "      <td>NaN</td>\n",
       "      <td>NaN</td>\n",
       "      <td>NaN</td>\n",
       "    </tr>\n",
       "    <tr>\n",
       "      <th>12</th>\n",
       "      <td>NaN</td>\n",
       "      <td>NaN</td>\n",
       "      <td>NaN</td>\n",
       "      <td>NaN</td>\n",
       "      <td>NaN</td>\n",
       "      <td>NaN</td>\n",
       "      <td>NaN</td>\n",
       "      <td>NaN</td>\n",
       "      <td>NaN</td>\n",
       "      <td>NaN</td>\n",
       "      <td>NaN</td>\n",
       "    </tr>\n",
       "    <tr>\n",
       "      <th>13</th>\n",
       "      <td>NaN</td>\n",
       "      <td>NaN</td>\n",
       "      <td>NaN</td>\n",
       "      <td>NaN</td>\n",
       "      <td>NaN</td>\n",
       "      <td>NaN</td>\n",
       "      <td>NaN</td>\n",
       "      <td>NaN</td>\n",
       "      <td>NaN</td>\n",
       "      <td>NaN</td>\n",
       "      <td>NaN</td>\n",
       "    </tr>\n",
       "    <tr>\n",
       "      <th>14</th>\n",
       "      <td>NaN</td>\n",
       "      <td>NaN</td>\n",
       "      <td>NaN</td>\n",
       "      <td>NaN</td>\n",
       "      <td>NaN</td>\n",
       "      <td>NaN</td>\n",
       "      <td>NaN</td>\n",
       "      <td>NaN</td>\n",
       "      <td>NaN</td>\n",
       "      <td>NaN</td>\n",
       "      <td>NaN</td>\n",
       "    </tr>\n",
       "    <tr>\n",
       "      <th>15</th>\n",
       "      <td>NaN</td>\n",
       "      <td>NaN</td>\n",
       "      <td>NaN</td>\n",
       "      <td>NaN</td>\n",
       "      <td>NaN</td>\n",
       "      <td>NaN</td>\n",
       "      <td>NaN</td>\n",
       "      <td>NaN</td>\n",
       "      <td>NaN</td>\n",
       "      <td>NaN</td>\n",
       "      <td>NaN</td>\n",
       "    </tr>\n",
       "    <tr>\n",
       "      <th>16</th>\n",
       "      <td>总计</td>\n",
       "      <td>NaN</td>\n",
       "      <td>NaN</td>\n",
       "      <td>650</td>\n",
       "      <td>1900</td>\n",
       "      <td>0</td>\n",
       "      <td>605</td>\n",
       "      <td>0</td>\n",
       "      <td>120</td>\n",
       "      <td>0</td>\n",
       "      <td>3275</td>\n",
       "    </tr>\n",
       "  </tbody>\n",
       "</table>\n",
       "</div>"
      ],
      "text/plain": [
       "                     0    1    2     3     4     5     6   \\\n",
       "0                 费用报销单  NaN  NaN  结账单号   NaN  付款日期  开始时间   \n",
       "1                    事由  NaN  NaN   NaN   NaN   NaN   NaN   \n",
       "2                  员工信息  NaN  NaN    职位   NaN   NaN  身份证号   \n",
       "3                    姓名   李四  NaN    经历   NaN   NaN  员工ID   \n",
       "4                   NaN  NaN  NaN   NaN   NaN   NaN   NaN   \n",
       "5                    日期   账目   说明    酒店   交通费    油费    餐饮   \n",
       "6   2019-08-10 00:00:00  NaN  NaN   650  1900   NaN   240   \n",
       "7   2019-08-21 00:00:00  NaN  NaN   NaN   NaN   NaN   365   \n",
       "8                   NaN  NaN  NaN   NaN   NaN   NaN   NaN   \n",
       "9                   NaN  NaN  NaN   NaN   NaN   NaN   NaN   \n",
       "10                  NaN  NaN  NaN   NaN   NaN   NaN   NaN   \n",
       "11                  NaN  NaN  NaN   NaN   NaN   NaN   NaN   \n",
       "12                  NaN  NaN  NaN   NaN   NaN   NaN   NaN   \n",
       "13                  NaN  NaN  NaN   NaN   NaN   NaN   NaN   \n",
       "14                  NaN  NaN  NaN   NaN   NaN   NaN   NaN   \n",
       "15                  NaN  NaN  NaN   NaN   NaN   NaN   NaN   \n",
       "16                   总计  NaN  NaN   650  1900     0   605   \n",
       "\n",
       "                     7     8                    9     10  \n",
       "0   2019-08-10 00:00:00  结束时间  2019-08-21 00:00:00   NaN  \n",
       "1                   NaN   NaN                  NaN   NaN  \n",
       "2                   NaN   NaN                  NaN   NaN  \n",
       "3                     1   NaN                  NaN   NaN  \n",
       "4                   NaN   NaN                  NaN   NaN  \n",
       "5                    电话   招待费                   杂费    总计  \n",
       "6                   NaN   NaN                  NaN  2790  \n",
       "7                   NaN   120                  NaN   485  \n",
       "8                   NaN   NaN                  NaN   NaN  \n",
       "9                   NaN   NaN                  NaN   NaN  \n",
       "10                  NaN   NaN                  NaN   NaN  \n",
       "11                  NaN   NaN                  NaN   NaN  \n",
       "12                  NaN   NaN                  NaN   NaN  \n",
       "13                  NaN   NaN                  NaN   NaN  \n",
       "14                  NaN   NaN                  NaN   NaN  \n",
       "15                  NaN   NaN                  NaN   NaN  \n",
       "16                    0   120                    0  3275  "
      ]
     },
     "execution_count": 2,
     "metadata": {},
     "output_type": "execute_result"
    }
   ],
   "source": [
    "df = pd.read_excel('/home/pi/Desktop/108python/1.xlsx',header=None) \n",
    "df"
   ]
  },
  {
   "cell_type": "code",
   "execution_count": 3,
   "id": "thick-chick",
   "metadata": {},
   "outputs": [
    {
     "name": "stdout",
     "output_type": "stream",
     "text": [
      "员工ID = 1\n",
      "姓名 = 李四\n",
      "开始时间 = 2019-08-10 00:00:00\n",
      "结束时间 = 2019-08-21 00:00:00\n"
     ]
    }
   ],
   "source": [
    "print('员工ID =',df.iloc[3,7])\n",
    "print('姓名 =', df.iloc[3,1])\n",
    "print('开始时间 =',df.iloc[0,7])\n",
    "print('结束时间 =',df.iloc[0,9])"
   ]
  },
  {
   "cell_type": "code",
   "execution_count": 4,
   "id": "strong-conditions",
   "metadata": {},
   "outputs": [
    {
     "name": "stdout",
     "output_type": "stream",
     "text": [
      "餐饮费合计= 605\n"
     ]
    }
   ],
   "source": [
    "row_total = df.loc[df[0] == '总计']\n",
    "print('餐饮费合计=', row_total.iloc[0,6])"
   ]
  },
  {
   "cell_type": "code",
   "execution_count": 5,
   "id": "unlikely-brother",
   "metadata": {},
   "outputs": [],
   "source": [
    "df = pd.read_excel('/home/pi/Desktop/108python/1.xlsx',header=None)\n",
    "total = df.loc[df[0] == '总计']\n",
    "\n",
    "row = {}\n",
    "row['ID'] = df.iloc[3, 7]\n",
    "row['姓名'] = df.iloc[3, 1]\n",
    "row['开始日期'] = df.iloc[0, 7]\n",
    "row['结束日期'] = df.iloc[0, 9]\n",
    "row['酒店'] = total.iloc[0, 3]\n",
    "row['交通费'] = total.iloc[0, 4]\n",
    "row['油费'] = total.iloc[0, 5]\n",
    "row['餐饮'] = total.iloc[0, 6]\n",
    "row['电话'] = total.iloc[0, 7]\n",
    "row['招待费'] = total.iloc[0, 8]\n",
    "row['杂项'] = total.iloc[0, 9]\n",
    "row['总计'] = total.iloc[0, 10]"
   ]
  },
  {
   "cell_type": "code",
   "execution_count": 6,
   "id": "union-boating",
   "metadata": {},
   "outputs": [
    {
     "name": "stdout",
     "output_type": "stream",
     "text": [
      "{'ID': 1, '姓名': '李四', '开始日期': datetime.datetime(2019, 8, 10, 0, 0), '结束日期': datetime.datetime(2019, 8, 21, 0, 0), '酒店': 650, '交通费': 1900, '油费': 0, '餐饮': 605, '电话': 0, '招待费': 120, '杂项': 0, '总计': 3275}\n"
     ]
    }
   ],
   "source": [
    "print(row)"
   ]
  },
  {
   "cell_type": "code",
   "execution_count": 7,
   "id": "peaceful-radio",
   "metadata": {},
   "outputs": [
    {
     "data": {
      "text/html": [
       "<div>\n",
       "<style scoped>\n",
       "    .dataframe tbody tr th:only-of-type {\n",
       "        vertical-align: middle;\n",
       "    }\n",
       "\n",
       "    .dataframe tbody tr th {\n",
       "        vertical-align: top;\n",
       "    }\n",
       "\n",
       "    .dataframe thead th {\n",
       "        text-align: right;\n",
       "    }\n",
       "</style>\n",
       "<table border=\"1\" class=\"dataframe\">\n",
       "  <thead>\n",
       "    <tr style=\"text-align: right;\">\n",
       "      <th></th>\n",
       "      <th>ID</th>\n",
       "      <th>姓名</th>\n",
       "      <th>开始日期</th>\n",
       "      <th>结束日期</th>\n",
       "      <th>酒店</th>\n",
       "      <th>交通费</th>\n",
       "      <th>油费</th>\n",
       "      <th>餐饮</th>\n",
       "      <th>电话</th>\n",
       "      <th>招待费</th>\n",
       "      <th>杂项</th>\n",
       "      <th>总计</th>\n",
       "    </tr>\n",
       "  </thead>\n",
       "  <tbody>\n",
       "    <tr>\n",
       "      <th>0</th>\n",
       "      <td>1</td>\n",
       "      <td>李四</td>\n",
       "      <td>2019-08-10</td>\n",
       "      <td>2019-08-21</td>\n",
       "      <td>650</td>\n",
       "      <td>1900</td>\n",
       "      <td>0</td>\n",
       "      <td>605</td>\n",
       "      <td>0</td>\n",
       "      <td>120</td>\n",
       "      <td>0</td>\n",
       "      <td>3275</td>\n",
       "    </tr>\n",
       "  </tbody>\n",
       "</table>\n",
       "</div>"
      ],
      "text/plain": [
       "   ID  姓名       开始日期       结束日期   酒店   交通费  油费   餐饮  电话  招待费  杂项    总计\n",
       "0   1  李四 2019-08-10 2019-08-21  650  1900   0  605   0  120   0  3275"
      ]
     },
     "execution_count": 7,
     "metadata": {},
     "output_type": "execute_result"
    }
   ],
   "source": [
    "df_all = pd.DataFrame([row])\n",
    "df_all"
   ]
  },
  {
   "cell_type": "code",
   "execution_count": 10,
   "id": "hundred-natural",
   "metadata": {},
   "outputs": [],
   "source": [
    "writer = pd.ExcelWriter('/home/pi/Desktop/108python/2.xls', engine='xlwt')\n",
    "df_all.to_excel(writer)\n",
    "writer.save()"
   ]
  },
  {
   "cell_type": "code",
   "execution_count": 21,
   "id": "expected-morning",
   "metadata": {},
   "outputs": [],
   "source": [
    "CWD = '/home/pi/Desktop/108python/'"
   ]
  },
  {
   "cell_type": "code",
   "execution_count": 22,
   "id": "2497184c",
   "metadata": {},
   "outputs": [],
   "source": [
    "from pathlib import Path\n",
    "p = Path(CWD)"
   ]
  },
  {
   "cell_type": "code",
   "execution_count": 23,
   "id": "sunset-semester",
   "metadata": {},
   "outputs": [
    {
     "data": {
      "text/plain": [
       "True"
      ]
     },
     "execution_count": 23,
     "metadata": {},
     "output_type": "execute_result"
    }
   ],
   "source": [
    "p.exists()"
   ]
  },
  {
   "cell_type": "code",
   "execution_count": 24,
   "id": "serious-shelf",
   "metadata": {},
   "outputs": [
    {
     "data": {
      "text/plain": [
       "True"
      ]
     },
     "execution_count": 24,
     "metadata": {},
     "output_type": "execute_result"
    }
   ],
   "source": [
    "p.is_dir()"
   ]
  },
  {
   "cell_type": "code",
   "execution_count": 25,
   "id": "informal-fleece",
   "metadata": {},
   "outputs": [
    {
     "name": "stdout",
     "output_type": "stream",
     "text": [
      "<class 'pathlib.PosixPath'>\n"
     ]
    }
   ],
   "source": [
    "print(type(p))"
   ]
  },
  {
   "cell_type": "code",
   "execution_count": 26,
   "id": "violent-bridge",
   "metadata": {},
   "outputs": [
    {
     "data": {
      "text/plain": [
       "[PosixPath('/home/pi/Desktop/108python/2.xls'),\n",
       " PosixPath('/home/pi/Desktop/108python/.ipynb_checkpoints'),\n",
       " PosixPath('/home/pi/Desktop/108python/README.md'),\n",
       " PosixPath('/home/pi/Desktop/108python/1.xlsx'),\n",
       " PosixPath('/home/pi/Desktop/108python/.git'),\n",
       " PosixPath('/home/pi/Desktop/108python/auto.md'),\n",
       " PosixPath('/home/pi/Desktop/108python/ras-pd-auto.ipynb'),\n",
       " PosixPath('/home/pi/Desktop/108python/1.ipynb'),\n",
       " PosixPath('/home/pi/Desktop/108python/mac-pd-auto.ipynb')]"
      ]
     },
     "execution_count": 26,
     "metadata": {},
     "output_type": "execute_result"
    }
   ],
   "source": [
    "list(p.glob('*'))"
   ]
  },
  {
   "cell_type": "code",
   "execution_count": 27,
   "id": "worse-attraction",
   "metadata": {},
   "outputs": [
    {
     "data": {
      "text/plain": [
       "[PosixPath('/home/pi/Desktop/108python/1.xlsx')]"
      ]
     },
     "execution_count": 27,
     "metadata": {},
     "output_type": "execute_result"
    }
   ],
   "source": [
    "list(p.glob('**/[!All]*.xlsx'))"
   ]
  },
  {
   "cell_type": "code",
   "execution_count": 28,
   "id": "multiple-bishop",
   "metadata": {},
   "outputs": [
    {
     "name": "stdout",
     "output_type": "stream",
     "text": [
      "1.xlsx\n"
     ]
    }
   ],
   "source": [
    "for q in p.glob('**/[!All]*.xlsx'):\n",
    "    print(q.name)"
   ]
  },
  {
   "cell_type": "code",
   "execution_count": null,
   "id": "quality-andrew",
   "metadata": {},
   "outputs": [],
   "source": []
  }
 ],
 "metadata": {
  "kernelspec": {
   "display_name": "Python 3",
   "language": "python",
   "name": "python3"
  },
  "language_info": {
   "codemirror_mode": {
    "name": "ipython",
    "version": 3
   },
   "file_extension": ".py",
   "mimetype": "text/x-python",
   "name": "python",
   "nbconvert_exporter": "python",
   "pygments_lexer": "ipython3",
   "version": "3.7.3"
  }
 },
 "nbformat": 4,
 "nbformat_minor": 5
}
