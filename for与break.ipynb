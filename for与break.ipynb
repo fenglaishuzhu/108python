{
  "cells": [
    {
      "cell_type": "code",
      "source": [
        "#我先理解Break的运行方式\r\n",
        "\r\n",
        "for  n  in range(2,4):   #为了便于理解，我把range的等差数列设置成只取一个2。\r\n",
        "   \r\n",
        "    if n==2:             # if语句相当于给n设置初始值2！进入for循环/\r\n",
        "     print(n)            # 因为上面if语句成立，运行代码结果是2。\r\n",
        "                \r\n",
        "    for i in range(2,n): #这句话的意思：将2分别赋值i和n.\r\n",
        "     if (n%i)==0:\r\n",
        "            break        # 由于取不出 2 值。所以这句话不能运行。注意：如果if条件不成立，break则不会运行。\r\n",
        "     \r\n",
        "    else:                #在break没有运行的条件下，才会运行else。\r\n",
        "        print('n3=',n)   # 所以打印出n3=2。继续返回第一个for进行循环遍历。"
      ],
      "outputs": [
        {
          "output_type": "stream",
          "name": "stdout",
          "text": [
            "2\n",
            "n3= 2\n",
            "n3= 3\n"
          ]
        }
      ],
      "execution_count": 81,
      "metadata": {
        "collapsed": true,
        "jupyter": {
          "source_hidden": false,
          "outputs_hidden": false
        },
        "nteract": {
          "transient": {
            "deleting": false
          }
        },
        "execution": {
          "iopub.status.busy": "2021-12-13T10:10:35.929Z",
          "iopub.execute_input": "2021-12-13T10:10:35.939Z",
          "iopub.status.idle": "2021-12-13T10:10:35.963Z",
          "shell.execute_reply": "2021-12-13T10:10:35.968Z"
        }
      }
    },
    {
      "cell_type": "code",
      "source": [
        "for  n  in range(2,4):   #为了便于理解，我把range的等差数列设置成取一个3。\r\n",
        "   \r\n",
        "    if n==2:             # if语句相当于给3！=2，进入下面for循环\r\n",
        "     print(n)            # 因为上面if语句成立，运行代码结果是2。\r\n",
        "                \r\n",
        "    for i in range(2,n): #这句话的意思：将2分别赋值i，将3赋值于n。\r\n",
        "     if (n%i)==0:        #3%2！=0.条件没有成立。所以if里面的break代码不会运行。所以，break不会执行。\r\n",
        "            break      \r\n",
        "     \r\n",
        "    else:                #在break没有运行，才会运行else。\r\n",
        "        print('n3=',n)   # 所以打印出n3=3。"
      ],
      "outputs": [
        {
          "output_type": "stream",
          "name": "stdout",
          "text": [
            "2\n",
            "n3= 2\n",
            "n3= 3\n"
          ]
        }
      ],
      "execution_count": 82,
      "metadata": {
        "collapsed": true,
        "jupyter": {
          "source_hidden": false,
          "outputs_hidden": false
        },
        "nteract": {
          "transient": {
            "deleting": false
          }
        },
        "execution": {
          "iopub.status.busy": "2021-12-13T10:10:39.324Z",
          "iopub.execute_input": "2021-12-13T10:10:39.336Z",
          "iopub.status.idle": "2021-12-13T10:10:39.355Z",
          "shell.execute_reply": "2021-12-13T10:10:39.361Z"
        }
      }
    },
    {
      "cell_type": "code",
      "source": [
        "\r\n",
        "for  n in range(2,4):\r\n",
        "    \r\n",
        "    if n==2:\r\n",
        "      print(n) \r\n",
        "    \r\n",
        "   \r\n",
        "    for i in range(2,n):\r\n",
        "     \r\n",
        "      if (n%i)==0:\r\n",
        "            break\r\n",
        "      print('lizhibo=',n)      #重点解释：break的应用，在这里加入print（'lizhibo=',n）,目的是理解break的运行逻辑。\r\n",
        "                               #注意，如果break成立的话，则不会运行这短代码。直接跳出小for循环，执行大for循环，看下面的实例。\r\n",
        "    else:\r\n",
        "        print('n3=',n)\r\n"
      ],
      "outputs": [
        {
          "output_type": "stream",
          "name": "stdout",
          "text": [
            "2\n",
            "n3= 2\n",
            "lizhibo= 3\n",
            "n3= 3\n"
          ]
        }
      ],
      "execution_count": 92,
      "metadata": {
        "collapsed": true,
        "jupyter": {
          "source_hidden": false,
          "outputs_hidden": false
        },
        "nteract": {
          "transient": {
            "deleting": false
          }
        },
        "execution": {
          "iopub.status.busy": "2021-12-13T10:12:22.890Z",
          "iopub.execute_input": "2021-12-13T10:12:22.897Z",
          "iopub.status.idle": "2021-12-13T10:12:22.915Z",
          "shell.execute_reply": "2021-12-13T10:12:22.921Z"
        }
      }
    },
    {
      "cell_type": "code",
      "source": [
        "for n in range(2,5):           # 如果换成是2-5的等差数列，分析一下运行结果！上面我已经把2和3已经运行结束，现在我们看一下4的运行结果.\r\n",
        "    \r\n",
        "    if n==2:                   # 4！=2\r\n",
        "       print(n) \r\n",
        "    \r\n",
        "   \r\n",
        "    for i in range(2,n):       # 赋值：i=2,n=4.\r\n",
        "      \r\n",
        "      if (n%i)==0:             # 4%2==0成立。\r\n",
        "            break              # break运行，跳出for循环。所以没有执行下面的'lizhibo'和'n3='\r\n",
        "      print('lizhibo=',n)      \r\n",
        "                               # 注意，如果break成立的话，则不会运行这短代码。直接跳出for循环，执行第一个for的遍历循环。\r\n",
        "    else:\r\n",
        "        print('n3=',n)"
      ],
      "outputs": [
        {
          "output_type": "stream",
          "name": "stdout",
          "text": [
            "2\n",
            "n3= 2\n",
            "lizhibo= 3\n",
            "n3= 3\n"
          ]
        }
      ],
      "execution_count": 105,
      "metadata": {
        "collapsed": true,
        "jupyter": {
          "source_hidden": false,
          "outputs_hidden": false
        },
        "nteract": {
          "transient": {
            "deleting": false
          }
        },
        "execution": {
          "iopub.status.busy": "2021-12-13T10:18:58.332Z",
          "iopub.execute_input": "2021-12-13T10:18:58.338Z",
          "iopub.status.idle": "2021-12-13T10:18:58.363Z",
          "shell.execute_reply": "2021-12-13T10:18:58.369Z"
        }
      }
    },
    {
      "cell_type": "code",
      "source": [
        "#下面是理解的continue。还是以上面的range(2,5)为例。\r\n",
        "\r\n",
        "for n in range(2,4):           # 如果换成是2-5的等差数列，分析一下运行结果！上面我已经把2和3已经运行结束，现在我们看一下4的运行结果.\r\n",
        "    \r\n",
        "    if n==2:                   # 2==2成立。\r\n",
        "       print(n)                # 执行print(n)\r\n",
        "       continue                # 执行continue。执行完毕后，回到第一个大for循环，不会进入下面的小for循环。取出3下往后执行。\r\n",
        "                               # 这里注意continue的位置，如果continue的位置跟if的并列的话，相当于这是第一个大for的循环奥！\r\n",
        "                \r\n",
        "    for i in range(2,n):       # 赋值：i=2,n=4.\r\n",
        "      \r\n",
        "      if (n%i)==0:             # 4%2==0成立。\r\n",
        "            break              # break运行，跳出for循环。所以没有执行下面的'lizhibo'和'n3='\r\n",
        "      print('lizhibo=',n)      \r\n",
        "                               # 注意，如果break成立的话，则不会运行这短代码。直接跳出for循环，执行第一个for的遍历循环。\r\n",
        "    else:\r\n",
        "        print('n3=',n)\r\n"
      ],
      "outputs": [
        {
          "output_type": "stream",
          "name": "stdout",
          "text": [
            "2\n",
            "lizhibo= 3\n",
            "n3= 3\n"
          ]
        }
      ],
      "execution_count": 117,
      "metadata": {
        "collapsed": true,
        "jupyter": {
          "source_hidden": false,
          "outputs_hidden": false
        },
        "nteract": {
          "transient": {
            "deleting": false
          }
        },
        "execution": {
          "iopub.status.busy": "2021-12-13T10:31:07.443Z",
          "iopub.execute_input": "2021-12-13T10:31:07.451Z",
          "iopub.status.idle": "2021-12-13T10:31:07.474Z",
          "shell.execute_reply": "2021-12-13T10:31:07.480Z"
        }
      }
    },
    {
      "cell_type": "code",
      "source": [
        " for  n in range(8,9):\r\n",
        "    if n==2:\r\n",
        "        print('我是第一个n=',n)\r\n",
        "        continue\r\n",
        "    for i in range(2,n):\r\n",
        "        print('i=',i)\r\n",
        "        if (n%i)==0:\r\n",
        "            break\r\n",
        "        \r\n",
        "    else:\r\n",
        "        print('n3=',n):"
      ],
      "outputs": [
        {
          "output_type": "stream",
          "name": "stdout",
          "text": [
            "i= 2\n"
          ]
        }
      ],
      "execution_count": 85,
      "metadata": {
        "collapsed": true,
        "jupyter": {
          "source_hidden": false,
          "outputs_hidden": false
        },
        "nteract": {
          "transient": {
            "deleting": false
          }
        },
        "execution": {
          "iopub.status.busy": "2021-12-13T10:10:56.278Z",
          "iopub.execute_input": "2021-12-13T10:10:56.284Z",
          "iopub.status.idle": "2021-12-13T10:10:56.303Z",
          "shell.execute_reply": "2021-12-13T10:10:56.309Z"
        }
      }
    },
    {
      "cell_type": "code",
      "source": [
        " for  n in range(2,10):\r\n",
        "    if n==2:\r\n",
        "        print('我是第一个n=',n)\r\n",
        "        continue\r\n",
        "\r\n",
        "    for i in range(2,n):\r\n",
        "        print('赋值',i)\r\n",
        "        if (n%i)==0:\r\n",
        "            break\r\n",
        "       \r\n",
        "    else:\r\n",
        "        print('n3=',n)"
      ],
      "outputs": [
        {
          "output_type": "stream",
          "name": "stdout",
          "text": [
            "我是第一个n= 2\n",
            "赋值 2\n",
            "n3= 3\n",
            "赋值 2\n",
            "赋值 2\n",
            "赋值 3\n",
            "赋值 4\n",
            "n3= 5\n",
            "赋值 2\n",
            "赋值 2\n",
            "赋值 3\n",
            "赋值 4\n",
            "赋值 5\n",
            "赋值 6\n",
            "n3= 7\n",
            "赋值 2\n",
            "赋值 2\n",
            "赋值 3\n"
          ]
        }
      ],
      "execution_count": 9,
      "metadata": {
        "collapsed": true,
        "jupyter": {
          "source_hidden": false,
          "outputs_hidden": false
        },
        "nteract": {
          "transient": {
            "deleting": false
          }
        },
        "execution": {
          "iopub.status.busy": "2021-12-13T03:11:17.640Z",
          "iopub.execute_input": "2021-12-13T03:11:17.648Z",
          "iopub.status.idle": "2021-12-13T03:11:17.677Z",
          "shell.execute_reply": "2021-12-13T03:11:17.686Z"
        }
      }
    },
    {
      "cell_type": "code",
      "source": [],
      "outputs": [],
      "execution_count": null,
      "metadata": {
        "collapsed": true,
        "jupyter": {
          "source_hidden": false,
          "outputs_hidden": false
        },
        "nteract": {
          "transient": {
            "deleting": false
          }
        }
      }
    }
  ],
  "metadata": {
    "kernel_info": {
      "name": "python3"
    },
    "language_info": {
      "name": "python",
      "version": "3.8.8",
      "mimetype": "text/x-python",
      "codemirror_mode": {
        "name": "ipython",
        "version": 3
      },
      "pygments_lexer": "ipython3",
      "nbconvert_exporter": "python",
      "file_extension": ".py"
    },
    "kernelspec": {
      "argv": [
        "C:/Users/lizhibo/anaconda3\\python.exe",
        "-m",
        "ipykernel_launcher",
        "-f",
        "{connection_file}"
      ],
      "display_name": "Python 3",
      "language": "python",
      "name": "python3"
    },
    "nteract": {
      "version": "0.28.0"
    }
  },
  "nbformat": 4,
  "nbformat_minor": 0
}