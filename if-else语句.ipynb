{
 "cells": [
  {
   "cell_type": "code",
   "execution_count": 3,
   "id": "30ac9d17-61a7-46f4-8f92-9a66477b6bf7",
   "metadata": {},
   "outputs": [
    {
     "name": "stdin",
     "output_type": "stream",
     "text": [
      "请输入0到100的整数。 76\n"
     ]
    },
    {
     "name": "stdout",
     "output_type": "stream",
     "text": [
      "76 分，是C\n"
     ]
    }
   ],
   "source": [
    "s = int(input('请输入0到100的整数。'))\n",
    "\n",
    "if s <= 60:\n",
    "    print(s, '分，是E')\n",
    "elif s <= 70:\n",
    "    print(s, '分，是D')\n",
    "elif s <= 80:\n",
    "    print(s, '分，是C')\n",
    "elif s <=90:\n",
    "    print(s, '分，是B')\n",
    "elif s <= 100:\n",
    "    print(s, '分，是A')\n",
    "\n",
    "else:\n",
    "    print('请输入0到100的整数。')\n",
    "    "
   ]
  },
  {
   "cell_type": "code",
   "execution_count": null,
   "id": "b5da7c0e-76a9-4d56-944a-fe3e7984b417",
   "metadata": {},
   "outputs": [],
   "source": []
  }
 ],
 "metadata": {
  "kernelspec": {
   "display_name": "Python 3 (ipykernel)",
   "language": "python",
   "name": "python3"
  },
  "language_info": {
   "codemirror_mode": {
    "name": "ipython",
    "version": 3
   },
   "file_extension": ".py",
   "mimetype": "text/x-python",
   "name": "python",
   "nbconvert_exporter": "python",
   "pygments_lexer": "ipython3",
   "version": "3.9.6"
  }
 },
 "nbformat": 4,
 "nbformat_minor": 5
}
