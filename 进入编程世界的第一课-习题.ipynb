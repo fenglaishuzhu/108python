{
 "cells": [
  {
   "cell_type": "code",
   "execution_count": 7,
   "id": "domestic-montreal",
   "metadata": {},
   "outputs": [
    {
     "name": "stdout",
     "output_type": "stream",
     "text": [
      "['https:', '', 'img-cdn.xue.cn', 'book_32333_cover.jpg']\n",
      "None\n",
      "https:\n",
      "book_32333_cover.jpg\n",
      "/home/pi/Desktop/108pythonbook_32333_cover.jpg done...\n",
      "['https:', '', 'img-cdn.xue.cn', 'book_34757_cover.jpg']\n",
      "None\n",
      "https:\n",
      "book_34757_cover.jpg\n",
      "/home/pi/Desktop/108pythonbook_34757_cover.jpg done...\n",
      "['https:', '', 'img-cdn.xue.cn', 'book_34238_cover.jpg']\n",
      "None\n",
      "https:\n",
      "book_34238_cover.jpg\n",
      "/home/pi/Desktop/108pythonbook_34238_cover.jpg done...\n"
     ]
    }
   ],
   "source": [
    "pictures = [\n",
    "    'https://img-cdn.xue.cn/book_32333_cover.jpg',\n",
    "    'https://img-cdn.xue.cn/book_34757_cover.jpg',\n",
    "    'https://img-cdn.xue.cn/book_34238_cover.jpg']\n",
    "\n",
    "for pic_url in pictures:\n",
    "    #根据url构造图片本地文件名\n",
    "    pic_file = '/home/pi/Desktop/108python' + pic_url.split('/')[-1]\n",
    "    #下载一张图片并以制定的文件名存放到指定路径\n",
    "    print(print(pic_url.split('/')))\n",
    "    print(pic_url.split('/')[0])\n",
    "    print(pic_url.split('/')[-1])\n",
    "    print(pic_file, 'done...')"
   ]
  },
  {
   "cell_type": "code",
   "execution_count": null,
   "id": "advance-sauce",
   "metadata": {},
   "outputs": [],
   "source": []
  },
  {
   "cell_type": "code",
   "execution_count": 1,
   "id": "aging-innocent",
   "metadata": {},
   "outputs": [
    {
     "name": "stdout",
     "output_type": "stream",
     "text": [
      "6\n",
      "28\n",
      "496\n",
      "8128\n"
     ]
    }
   ],
   "source": [
    "#2022.2.21\n",
    "#寻找完美数\n",
    "for i in range(1, 10001):\n",
    "    L = []\n",
    "    for j in range(1, i):\n",
    "        if i % j == 0:\n",
    "            L.append(j)\n",
    "    if i == sum(L):\n",
    "        print(i)"
   ]
  },
  {
   "cell_type": "code",
   "execution_count": null,
   "id": "dominant-listening",
   "metadata": {},
   "outputs": [],
   "source": [
    "# 2022.2.20\n",
    "# 1.取出10到40之间的偶数\n",
    "for i in range(10, 40):\n",
    "    if i % 2 == 0:\n",
    "        print(i, end = \" \")\n",
    "print()\n",
    "\n",
    "for j in range(10, 40 ,2):\n",
    "    print(j, end = \" \")"
   ]
  },
  {
   "cell_type": "code",
   "execution_count": 3,
   "id": "careful-shape",
   "metadata": {},
   "outputs": [
    {
     "name": "stdout",
     "output_type": "stream",
     "text": [
      "9\n"
     ]
    }
   ],
   "source": [
    "# 2.用数字构造左对齐的三角形\n",
    "s = '0123456789'\n",
    "for i in range(9, -1 -1):#反向的range可以玩一下看看\n",
    "    print(s[i:])\n",
    "    print()"
   ]
  },
  {
   "cell_type": "code",
   "execution_count": 4,
   "id": "unsigned-wichita",
   "metadata": {},
   "outputs": [
    {
     "name": "stdout",
     "output_type": "stream",
     "text": [
      "0\n"
     ]
    }
   ],
   "source": [
    "print(s[0])"
   ]
  },
  {
   "cell_type": "code",
   "execution_count": 9,
   "id": "driven-peoples",
   "metadata": {},
   "outputs": [],
   "source": [
    "for i in range(0, 10, -1):\n",
    "    print(i)"
   ]
  },
  {
   "cell_type": "code",
   "execution_count": 11,
   "id": "processed-episode",
   "metadata": {},
   "outputs": [
    {
     "name": "stdout",
     "output_type": "stream",
     "text": [
      "7\n",
      "6\n",
      "5\n",
      "4\n",
      "3\n",
      "2\n",
      "1\n",
      "0\n",
      "-1\n"
     ]
    }
   ],
   "source": [
    "for i in range(7, -2, -1):\n",
    "    print(i)"
   ]
  },
  {
   "cell_type": "code",
   "execution_count": 23,
   "id": "considerable-devices",
   "metadata": {},
   "outputs": [
    {
     "name": "stdout",
     "output_type": "stream",
     "text": [
      "    5\n",
      "   45\n",
      "  345\n",
      " 2345\n",
      "12345\n"
     ]
    }
   ],
   "source": [
    "# 3.用数字构造右对齐的三角形\n",
    "s = '12345'\n",
    "for i in range(-1, -6, -1):\n",
    "    print(s[i:].rjust(5))#学习一下rjust知识点，rjust site:python.org搜索\n",
    "    "
   ]
  },
  {
   "cell_type": "code",
   "execution_count": 1,
   "id": "clinical-cleaner",
   "metadata": {},
   "outputs": [
    {
     "name": "stdout",
     "output_type": "stream",
     "text": [
      "输入1到9的整数6\n",
      "输入1到20的整数6\n",
      "6+66+666+6666+66666+666666 = 740736\n"
     ]
    }
   ],
   "source": [
    "# 4.构造算式并计算数值\n",
    "a = input(\"输入1到9的整数\")\n",
    "n = int(input(\"输入1到20的整数\"))\n",
    "\n",
    "s = \"\"\n",
    "for i in range(1, n+1):\n",
    "    s += a*i+\"+\"\n",
    "    \n",
    "s = s[:-1]\n",
    "print(f\"{s} = {eval(s)}\")"
   ]
  },
  {
   "cell_type": "code",
   "execution_count": 3,
   "id": "fresh-backup",
   "metadata": {},
   "outputs": [],
   "source": [
    "eval?"
   ]
  },
  {
   "cell_type": "code",
   "execution_count": null,
   "id": "08df7877",
   "metadata": {},
   "outputs": [],
   "source": []
  }
 ],
 "metadata": {
  "kernelspec": {
   "display_name": "Python 3",
   "language": "python",
   "name": "python3"
  },
  "language_info": {
   "codemirror_mode": {
    "name": "ipython",
    "version": 3
   },
   "file_extension": ".py",
   "mimetype": "text/x-python",
   "name": "python",
   "nbconvert_exporter": "python",
   "pygments_lexer": "ipython3",
   "version": "3.7.3"
  }
 },
 "nbformat": 4,
 "nbformat_minor": 5
}
