{
 "cells": [
  {
   "cell_type": "code",
   "execution_count": 42,
   "id": "bd9a9278",
   "metadata": {},
   "outputs": [
    {
     "name": "stdout",
     "output_type": "stream",
     "text": [
      "2\n",
      "li\n",
      "i =  2\n",
      "li\n",
      "i =  2\n",
      "li\n"
     ]
    }
   ],
   "source": [
    "for n in range(2, 5):\n",
    "    if n == 2:\n",
    "        print(n)\n",
    "    for i in range(2, n):\n",
    "        print('i = ', i)\n",
    "        if (n % i) == 0:\n",
    "            break\n",
    "    print('li')\n"
   ]
  },
  {
   "cell_type": "code",
   "execution_count": 21,
   "id": "043b22cd",
   "metadata": {},
   "outputs": [
    {
     "name": "stdout",
     "output_type": "stream",
     "text": [
      "2\n",
      "2\n",
      "3\n",
      "5\n",
      "7\n"
     ]
    }
   ],
   "source": [
    "for n in range(2, 10):\n",
    "    if n == 2:\n",
    "        print(n)\n",
    "    for i in range(2, n):\n",
    "        if (n % i) == 0:\n",
    "            break\n",
    "    else:\n",
    "        print('n3 = ',n)"
   ]
  },
  {
   "cell_type": "code",
   "execution_count": 20,
   "id": "c99772e3",
   "metadata": {},
   "outputs": [
    {
     "name": "stdout",
     "output_type": "stream",
     "text": [
      "2\n",
      "3\n",
      "4\n",
      "5\n",
      "6\n",
      "7\n",
      "8\n",
      "9\n"
     ]
    }
   ],
   "source": [
    "for n in range(2, 10):\n",
    "    if n == 2:\n",
    "        print(n)\n",
    "    else:\n",
    "        print(n)"
   ]
  },
  {
   "cell_type": "code",
   "execution_count": 18,
   "id": "e4e05af6",
   "metadata": {},
   "outputs": [
    {
     "name": "stdout",
     "output_type": "stream",
     "text": [
      "2\n"
     ]
    }
   ],
   "source": [
    "for n in range(2, 10):\n",
    "    if n == 2:\n",
    "        print(n)\n",
    "    for i in range(2, n):\n",
    "        if (n % i) == 0:\n",
    "            break\n"
   ]
  },
  {
   "cell_type": "code",
   "execution_count": null,
   "id": "99e73ad7",
   "metadata": {},
   "outputs": [],
   "source": []
  }
 ],
 "metadata": {
  "kernelspec": {
   "display_name": "Python 3 (ipykernel)",
   "language": "python",
   "name": "python3"
  },
  "language_info": {
   "codemirror_mode": {
    "name": "ipython",
    "version": 3
   },
   "file_extension": ".py",
   "mimetype": "text/x-python",
   "name": "python",
   "nbconvert_exporter": "python",
   "pygments_lexer": "ipython3",
   "version": "3.10.0"
  }
 },
 "nbformat": 4,
 "nbformat_minor": 5
}
