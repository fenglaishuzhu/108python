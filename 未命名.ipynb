{
 "cells": [
  {
   "cell_type": "code",
   "execution_count": 4,
   "id": "53f1256b",
   "metadata": {},
   "outputs": [
    {
     "name": "stdout",
     "output_type": "stream",
     "text": [
      "666\n"
     ]
    }
   ],
   "source": [
    "class Account:\n",
    "    def __init__(self, id):\n",
    "        self.id = id\n",
    "        \n",
    "class child(Account):\n",
    "    def __init__(self, id):\n",
    "        self.id = 666\n",
    "\n",
    "        \n",
    "obj = child(11)\n",
    "print(obj.id)"
   ]
  },
  {
   "cell_type": "code",
   "execution_count": null,
   "id": "6b4c4608",
   "metadata": {},
   "outputs": [],
   "source": []
  }
 ],
 "metadata": {
  "kernelspec": {
   "display_name": "Python 3 (ipykernel)",
   "language": "python",
   "name": "python3"
  },
  "language_info": {
   "codemirror_mode": {
    "name": "ipython",
    "version": 3
   },
   "file_extension": ".py",
   "mimetype": "text/x-python",
   "name": "python",
   "nbconvert_exporter": "python",
   "pygments_lexer": "ipython3",
   "version": "3.10.0"
  }
 },
 "nbformat": 4,
 "nbformat_minor": 5
}
